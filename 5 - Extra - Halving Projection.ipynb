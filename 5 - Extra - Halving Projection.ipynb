{
 "cells": [
  {
   "cell_type": "markdown",
   "metadata": {},
   "source": [
    "# Import packages and classes"
   ]
  },
  {
   "cell_type": "code",
   "execution_count": 1,
   "metadata": {},
   "outputs": [],
   "source": [
    "import pandas as pd\n",
    "import numpy as np\n",
    "from datetime import datetime\n",
    "import time\n",
    "\n",
    "import statsmodels.api as sm\n",
    "\n",
    "from sklearn import metrics\n",
    "from sklearn.linear_model import LinearRegression\n",
    "from sklearn.model_selection import train_test_split\n",
    "\n",
    "from mpl_toolkits.mplot3d import Axes3D\n",
    "import seaborn as sns\n",
    "import matplotlib.pyplot as plt\n",
    "%matplotlib inline"
   ]
  },
  {
   "cell_type": "code",
   "execution_count": 2,
   "metadata": {},
   "outputs": [],
   "source": [
    "# Suppress scientific notation in Pandas\n",
    "pd.set_option('display.float_format', lambda x: '%.5f' % x)"
   ]
  },
  {
   "cell_type": "markdown",
   "metadata": {},
   "source": [
    "# Define a function"
   ]
  },
  {
   "cell_type": "code",
   "execution_count": 3,
   "metadata": {},
   "outputs": [],
   "source": [
    "# Convert timestamp to date format\n",
    "# Useful for making the timestamp humanely friendly\n",
    "\n",
    "def timestampToDate(timestamp):\n",
    "    \n",
    "    return timestampToDateTime(timestamp).date()"
   ]
  },
  {
   "cell_type": "code",
   "execution_count": 4,
   "metadata": {},
   "outputs": [],
   "source": [
    "# Convert timestamp to date and time format\n",
    "# Useful for making the timestamp humanely friendly\n",
    "\n",
    "def timestampToDateTime(timestamp):\n",
    "    \n",
    "    return datetime.fromtimestamp(timestamp)"
   ]
  },
  {
   "cell_type": "markdown",
   "metadata": {},
   "source": [
    "# Importing the data"
   ]
  },
  {
   "cell_type": "code",
   "execution_count": 5,
   "metadata": {},
   "outputs": [
    {
     "data": {
      "text/html": [
       "<div>\n",
       "<style scoped>\n",
       "    .dataframe tbody tr th:only-of-type {\n",
       "        vertical-align: middle;\n",
       "    }\n",
       "\n",
       "    .dataframe tbody tr th {\n",
       "        vertical-align: top;\n",
       "    }\n",
       "\n",
       "    .dataframe thead th {\n",
       "        text-align: right;\n",
       "    }\n",
       "</style>\n",
       "<table border=\"1\" class=\"dataframe\">\n",
       "  <thead>\n",
       "    <tr style=\"text-align: right;\">\n",
       "      <th></th>\n",
       "      <th>Unnamed: 0</th>\n",
       "      <th>height</th>\n",
       "      <th>time</th>\n",
       "    </tr>\n",
       "  </thead>\n",
       "  <tbody>\n",
       "    <tr>\n",
       "      <th>0</th>\n",
       "      <td>0</td>\n",
       "      <td>1778781</td>\n",
       "      <td>1622516234</td>\n",
       "    </tr>\n",
       "    <tr>\n",
       "      <th>1</th>\n",
       "      <td>1</td>\n",
       "      <td>1778780</td>\n",
       "      <td>1622516196</td>\n",
       "    </tr>\n",
       "    <tr>\n",
       "      <th>2</th>\n",
       "      <td>2</td>\n",
       "      <td>1778779</td>\n",
       "      <td>1622516185</td>\n",
       "    </tr>\n",
       "    <tr>\n",
       "      <th>3</th>\n",
       "      <td>3</td>\n",
       "      <td>1778778</td>\n",
       "      <td>1622516158</td>\n",
       "    </tr>\n",
       "    <tr>\n",
       "      <th>4</th>\n",
       "      <td>4</td>\n",
       "      <td>1778777</td>\n",
       "      <td>1622515956</td>\n",
       "    </tr>\n",
       "    <tr>\n",
       "      <th>...</th>\n",
       "      <td>...</td>\n",
       "      <td>...</td>\n",
       "      <td>...</td>\n",
       "    </tr>\n",
       "    <tr>\n",
       "      <th>1774755</th>\n",
       "      <td>1774755</td>\n",
       "      <td>5</td>\n",
       "      <td>1515015840</td>\n",
       "    </tr>\n",
       "    <tr>\n",
       "      <th>1774756</th>\n",
       "      <td>1774756</td>\n",
       "      <td>4</td>\n",
       "      <td>1515015833</td>\n",
       "    </tr>\n",
       "    <tr>\n",
       "      <th>1774757</th>\n",
       "      <td>1774757</td>\n",
       "      <td>3</td>\n",
       "      <td>1515015816</td>\n",
       "    </tr>\n",
       "    <tr>\n",
       "      <th>1774758</th>\n",
       "      <td>1774758</td>\n",
       "      <td>2</td>\n",
       "      <td>1515015759</td>\n",
       "    </tr>\n",
       "    <tr>\n",
       "      <th>1774759</th>\n",
       "      <td>1774759</td>\n",
       "      <td>1</td>\n",
       "      <td>1515015723</td>\n",
       "    </tr>\n",
       "  </tbody>\n",
       "</table>\n",
       "<p>1774760 rows × 3 columns</p>\n",
       "</div>"
      ],
      "text/plain": [
       "         Unnamed: 0   height        time\n",
       "0                 0  1778781  1622516234\n",
       "1                 1  1778780  1622516196\n",
       "2                 2  1778779  1622516185\n",
       "3                 3  1778778  1622516158\n",
       "4                 4  1778777  1622515956\n",
       "...             ...      ...         ...\n",
       "1774755     1774755        5  1515015840\n",
       "1774756     1774756        4  1515015833\n",
       "1774757     1774757        3  1515015816\n",
       "1774758     1774758        2  1515015759\n",
       "1774759     1774759        1  1515015723\n",
       "\n",
       "[1774760 rows x 3 columns]"
      ]
     },
     "execution_count": 5,
     "metadata": {},
     "output_type": "execute_result"
    }
   ],
   "source": [
    "dfOriginal = pd.read_csv('Datasets/rvnHalvingPrediction.csv')\n",
    "df = dfOriginal.copy()\n",
    "df"
   ]
  },
  {
   "cell_type": "code",
   "execution_count": 6,
   "metadata": {},
   "outputs": [
    {
     "data": {
      "text/plain": [
       "Unnamed: 0    int64\n",
       "height        int64\n",
       "time          int64\n",
       "dtype: object"
      ]
     },
     "execution_count": 6,
     "metadata": {},
     "output_type": "execute_result"
    }
   ],
   "source": [
    "df.dtypes"
   ]
  },
  {
   "cell_type": "markdown",
   "metadata": {},
   "source": [
    "# Data Transformation"
   ]
  },
  {
   "cell_type": "code",
   "execution_count": 7,
   "metadata": {},
   "outputs": [
    {
     "data": {
      "text/plain": [
       "Unnamed: 0    0\n",
       "height        0\n",
       "time          0\n",
       "dtype: int64"
      ]
     },
     "execution_count": 7,
     "metadata": {},
     "output_type": "execute_result"
    }
   ],
   "source": [
    "# Missing values by columns/variables\n",
    "df.isna().sum()"
   ]
  },
  {
   "cell_type": "code",
   "execution_count": 8,
   "metadata": {},
   "outputs": [
    {
     "data": {
      "text/html": [
       "<div>\n",
       "<style scoped>\n",
       "    .dataframe tbody tr th:only-of-type {\n",
       "        vertical-align: middle;\n",
       "    }\n",
       "\n",
       "    .dataframe tbody tr th {\n",
       "        vertical-align: top;\n",
       "    }\n",
       "\n",
       "    .dataframe thead th {\n",
       "        text-align: right;\n",
       "    }\n",
       "</style>\n",
       "<table border=\"1\" class=\"dataframe\">\n",
       "  <thead>\n",
       "    <tr style=\"text-align: right;\">\n",
       "      <th></th>\n",
       "      <th>height</th>\n",
       "      <th>time</th>\n",
       "    </tr>\n",
       "  </thead>\n",
       "  <tbody>\n",
       "    <tr>\n",
       "      <th>0</th>\n",
       "      <td>1778781</td>\n",
       "      <td>1622516234</td>\n",
       "    </tr>\n",
       "    <tr>\n",
       "      <th>1</th>\n",
       "      <td>1778780</td>\n",
       "      <td>1622516196</td>\n",
       "    </tr>\n",
       "    <tr>\n",
       "      <th>2</th>\n",
       "      <td>1778779</td>\n",
       "      <td>1622516185</td>\n",
       "    </tr>\n",
       "    <tr>\n",
       "      <th>3</th>\n",
       "      <td>1778778</td>\n",
       "      <td>1622516158</td>\n",
       "    </tr>\n",
       "    <tr>\n",
       "      <th>4</th>\n",
       "      <td>1778777</td>\n",
       "      <td>1622515956</td>\n",
       "    </tr>\n",
       "    <tr>\n",
       "      <th>5</th>\n",
       "      <td>1778776</td>\n",
       "      <td>1622515953</td>\n",
       "    </tr>\n",
       "    <tr>\n",
       "      <th>6</th>\n",
       "      <td>1778775</td>\n",
       "      <td>1622515941</td>\n",
       "    </tr>\n",
       "    <tr>\n",
       "      <th>7</th>\n",
       "      <td>1778774</td>\n",
       "      <td>1622515909</td>\n",
       "    </tr>\n",
       "    <tr>\n",
       "      <th>8</th>\n",
       "      <td>1778773</td>\n",
       "      <td>1622515865</td>\n",
       "    </tr>\n",
       "    <tr>\n",
       "      <th>9</th>\n",
       "      <td>1778772</td>\n",
       "      <td>1622515833</td>\n",
       "    </tr>\n",
       "  </tbody>\n",
       "</table>\n",
       "</div>"
      ],
      "text/plain": [
       "    height        time\n",
       "0  1778781  1622516234\n",
       "1  1778780  1622516196\n",
       "2  1778779  1622516185\n",
       "3  1778778  1622516158\n",
       "4  1778777  1622515956\n",
       "5  1778776  1622515953\n",
       "6  1778775  1622515941\n",
       "7  1778774  1622515909\n",
       "8  1778773  1622515865\n",
       "9  1778772  1622515833"
      ]
     },
     "execution_count": 8,
     "metadata": {},
     "output_type": "execute_result"
    }
   ],
   "source": [
    "# Removing garbage\n",
    "df = df.drop('Unnamed: 0', 1)\n",
    "\n",
    "df.head(10)"
   ]
  },
  {
   "cell_type": "code",
   "execution_count": 9,
   "metadata": {},
   "outputs": [
    {
     "name": "stdout",
     "output_type": "stream",
     "text": [
      "<class 'pandas.core.frame.DataFrame'>\n",
      "RangeIndex: 1774760 entries, 0 to 1774759\n",
      "Data columns (total 2 columns):\n",
      " #   Column  Dtype\n",
      "---  ------  -----\n",
      " 0   height  int64\n",
      " 1   time    int64\n",
      "dtypes: int64(2)\n",
      "memory usage: 27.1 MB\n"
     ]
    }
   ],
   "source": [
    "df.info()"
   ]
  },
  {
   "cell_type": "markdown",
   "metadata": {},
   "source": [
    "# Data exploration"
   ]
  },
  {
   "cell_type": "markdown",
   "metadata": {},
   "source": [
    "Check the average time elapsed between blocks being generated monthly"
   ]
  },
  {
   "cell_type": "code",
   "execution_count": 10,
   "metadata": {},
   "outputs": [
    {
     "data": {
      "text/html": [
       "<div>\n",
       "<style scoped>\n",
       "    .dataframe tbody tr th:only-of-type {\n",
       "        vertical-align: middle;\n",
       "    }\n",
       "\n",
       "    .dataframe tbody tr th {\n",
       "        vertical-align: top;\n",
       "    }\n",
       "\n",
       "    .dataframe thead th {\n",
       "        text-align: right;\n",
       "    }\n",
       "</style>\n",
       "<table border=\"1\" class=\"dataframe\">\n",
       "  <thead>\n",
       "    <tr style=\"text-align: right;\">\n",
       "      <th></th>\n",
       "      <th>height</th>\n",
       "      <th>time</th>\n",
       "    </tr>\n",
       "  </thead>\n",
       "  <tbody>\n",
       "    <tr>\n",
       "      <th>0</th>\n",
       "      <td>1778781</td>\n",
       "      <td>1622516234</td>\n",
       "    </tr>\n",
       "    <tr>\n",
       "      <th>1</th>\n",
       "      <td>1778780</td>\n",
       "      <td>1622516196</td>\n",
       "    </tr>\n",
       "    <tr>\n",
       "      <th>2</th>\n",
       "      <td>1778779</td>\n",
       "      <td>1622516185</td>\n",
       "    </tr>\n",
       "    <tr>\n",
       "      <th>3</th>\n",
       "      <td>1778778</td>\n",
       "      <td>1622516158</td>\n",
       "    </tr>\n",
       "    <tr>\n",
       "      <th>4</th>\n",
       "      <td>1778777</td>\n",
       "      <td>1622515956</td>\n",
       "    </tr>\n",
       "    <tr>\n",
       "      <th>...</th>\n",
       "      <td>...</td>\n",
       "      <td>...</td>\n",
       "    </tr>\n",
       "    <tr>\n",
       "      <th>1774755</th>\n",
       "      <td>5</td>\n",
       "      <td>1515015840</td>\n",
       "    </tr>\n",
       "    <tr>\n",
       "      <th>1774756</th>\n",
       "      <td>4</td>\n",
       "      <td>1515015833</td>\n",
       "    </tr>\n",
       "    <tr>\n",
       "      <th>1774757</th>\n",
       "      <td>3</td>\n",
       "      <td>1515015816</td>\n",
       "    </tr>\n",
       "    <tr>\n",
       "      <th>1774758</th>\n",
       "      <td>2</td>\n",
       "      <td>1515015759</td>\n",
       "    </tr>\n",
       "    <tr>\n",
       "      <th>1774759</th>\n",
       "      <td>1</td>\n",
       "      <td>1515015723</td>\n",
       "    </tr>\n",
       "  </tbody>\n",
       "</table>\n",
       "<p>1774760 rows × 2 columns</p>\n",
       "</div>"
      ],
      "text/plain": [
       "          height        time\n",
       "0        1778781  1622516234\n",
       "1        1778780  1622516196\n",
       "2        1778779  1622516185\n",
       "3        1778778  1622516158\n",
       "4        1778777  1622515956\n",
       "...          ...         ...\n",
       "1774755        5  1515015840\n",
       "1774756        4  1515015833\n",
       "1774757        3  1515015816\n",
       "1774758        2  1515015759\n",
       "1774759        1  1515015723\n",
       "\n",
       "[1774760 rows x 2 columns]"
      ]
     },
     "execution_count": 10,
     "metadata": {},
     "output_type": "execute_result"
    }
   ],
   "source": [
    "dfExploration = df.copy()\n",
    "dfExploration"
   ]
  },
  {
   "cell_type": "code",
   "execution_count": 11,
   "metadata": {},
   "outputs": [
    {
     "data": {
      "text/html": [
       "<div>\n",
       "<style scoped>\n",
       "    .dataframe tbody tr th:only-of-type {\n",
       "        vertical-align: middle;\n",
       "    }\n",
       "\n",
       "    .dataframe tbody tr th {\n",
       "        vertical-align: top;\n",
       "    }\n",
       "\n",
       "    .dataframe thead th {\n",
       "        text-align: right;\n",
       "    }\n",
       "</style>\n",
       "<table border=\"1\" class=\"dataframe\">\n",
       "  <thead>\n",
       "    <tr style=\"text-align: right;\">\n",
       "      <th></th>\n",
       "      <th>height</th>\n",
       "      <th>time</th>\n",
       "      <th>dateTime</th>\n",
       "      <th>monthYear</th>\n",
       "    </tr>\n",
       "  </thead>\n",
       "  <tbody>\n",
       "    <tr>\n",
       "      <th>0</th>\n",
       "      <td>1778781</td>\n",
       "      <td>1622516234</td>\n",
       "      <td>2021-05-31 23:57:14</td>\n",
       "      <td>2021-05</td>\n",
       "    </tr>\n",
       "    <tr>\n",
       "      <th>1</th>\n",
       "      <td>1778780</td>\n",
       "      <td>1622516196</td>\n",
       "      <td>2021-05-31 23:56:36</td>\n",
       "      <td>2021-05</td>\n",
       "    </tr>\n",
       "    <tr>\n",
       "      <th>2</th>\n",
       "      <td>1778779</td>\n",
       "      <td>1622516185</td>\n",
       "      <td>2021-05-31 23:56:25</td>\n",
       "      <td>2021-05</td>\n",
       "    </tr>\n",
       "    <tr>\n",
       "      <th>3</th>\n",
       "      <td>1778778</td>\n",
       "      <td>1622516158</td>\n",
       "      <td>2021-05-31 23:55:58</td>\n",
       "      <td>2021-05</td>\n",
       "    </tr>\n",
       "    <tr>\n",
       "      <th>4</th>\n",
       "      <td>1778777</td>\n",
       "      <td>1622515956</td>\n",
       "      <td>2021-05-31 23:52:36</td>\n",
       "      <td>2021-05</td>\n",
       "    </tr>\n",
       "    <tr>\n",
       "      <th>5</th>\n",
       "      <td>1778776</td>\n",
       "      <td>1622515953</td>\n",
       "      <td>2021-05-31 23:52:33</td>\n",
       "      <td>2021-05</td>\n",
       "    </tr>\n",
       "    <tr>\n",
       "      <th>6</th>\n",
       "      <td>1778775</td>\n",
       "      <td>1622515941</td>\n",
       "      <td>2021-05-31 23:52:21</td>\n",
       "      <td>2021-05</td>\n",
       "    </tr>\n",
       "    <tr>\n",
       "      <th>7</th>\n",
       "      <td>1778774</td>\n",
       "      <td>1622515909</td>\n",
       "      <td>2021-05-31 23:51:49</td>\n",
       "      <td>2021-05</td>\n",
       "    </tr>\n",
       "    <tr>\n",
       "      <th>8</th>\n",
       "      <td>1778773</td>\n",
       "      <td>1622515865</td>\n",
       "      <td>2021-05-31 23:51:05</td>\n",
       "      <td>2021-05</td>\n",
       "    </tr>\n",
       "    <tr>\n",
       "      <th>9</th>\n",
       "      <td>1778772</td>\n",
       "      <td>1622515833</td>\n",
       "      <td>2021-05-31 23:50:33</td>\n",
       "      <td>2021-05</td>\n",
       "    </tr>\n",
       "  </tbody>\n",
       "</table>\n",
       "</div>"
      ],
      "text/plain": [
       "    height        time            dateTime monthYear\n",
       "0  1778781  1622516234 2021-05-31 23:57:14   2021-05\n",
       "1  1778780  1622516196 2021-05-31 23:56:36   2021-05\n",
       "2  1778779  1622516185 2021-05-31 23:56:25   2021-05\n",
       "3  1778778  1622516158 2021-05-31 23:55:58   2021-05\n",
       "4  1778777  1622515956 2021-05-31 23:52:36   2021-05\n",
       "5  1778776  1622515953 2021-05-31 23:52:33   2021-05\n",
       "6  1778775  1622515941 2021-05-31 23:52:21   2021-05\n",
       "7  1778774  1622515909 2021-05-31 23:51:49   2021-05\n",
       "8  1778773  1622515865 2021-05-31 23:51:05   2021-05\n",
       "9  1778772  1622515833 2021-05-31 23:50:33   2021-05"
      ]
     },
     "execution_count": 11,
     "metadata": {},
     "output_type": "execute_result"
    }
   ],
   "source": [
    "# Handling the dates\n",
    "dfExploration['dateTime']  = dfExploration['time']\n",
    "dfExploration['dateTime']  = dfExploration['dateTime'].apply(timestampToDateTime)\n",
    "dfExploration['monthYear'] = dfExploration['dateTime'].dt.to_period('M')                     \n",
    "\n",
    "dfExploration.head(10)"
   ]
  },
  {
   "cell_type": "code",
   "execution_count": 12,
   "metadata": {},
   "outputs": [
    {
     "data": {
      "text/html": [
       "<div>\n",
       "<style scoped>\n",
       "    .dataframe tbody tr th:only-of-type {\n",
       "        vertical-align: middle;\n",
       "    }\n",
       "\n",
       "    .dataframe tbody tr th {\n",
       "        vertical-align: top;\n",
       "    }\n",
       "\n",
       "    .dataframe thead th {\n",
       "        text-align: right;\n",
       "    }\n",
       "</style>\n",
       "<table border=\"1\" class=\"dataframe\">\n",
       "  <thead>\n",
       "    <tr style=\"text-align: right;\">\n",
       "      <th></th>\n",
       "      <th>height</th>\n",
       "      <th>time</th>\n",
       "      <th>dateTime</th>\n",
       "      <th>monthYear</th>\n",
       "      <th>secondsBetweenBlocks</th>\n",
       "    </tr>\n",
       "  </thead>\n",
       "  <tbody>\n",
       "    <tr>\n",
       "      <th>0</th>\n",
       "      <td>1778781</td>\n",
       "      <td>1622516234</td>\n",
       "      <td>2021-05-31 23:57:14</td>\n",
       "      <td>2021-05</td>\n",
       "      <td>0.00000</td>\n",
       "    </tr>\n",
       "    <tr>\n",
       "      <th>1</th>\n",
       "      <td>1778780</td>\n",
       "      <td>1622516196</td>\n",
       "      <td>2021-05-31 23:56:36</td>\n",
       "      <td>2021-05</td>\n",
       "      <td>38.00000</td>\n",
       "    </tr>\n",
       "    <tr>\n",
       "      <th>2</th>\n",
       "      <td>1778779</td>\n",
       "      <td>1622516185</td>\n",
       "      <td>2021-05-31 23:56:25</td>\n",
       "      <td>2021-05</td>\n",
       "      <td>11.00000</td>\n",
       "    </tr>\n",
       "    <tr>\n",
       "      <th>3</th>\n",
       "      <td>1778778</td>\n",
       "      <td>1622516158</td>\n",
       "      <td>2021-05-31 23:55:58</td>\n",
       "      <td>2021-05</td>\n",
       "      <td>27.00000</td>\n",
       "    </tr>\n",
       "    <tr>\n",
       "      <th>4</th>\n",
       "      <td>1778777</td>\n",
       "      <td>1622515956</td>\n",
       "      <td>2021-05-31 23:52:36</td>\n",
       "      <td>2021-05</td>\n",
       "      <td>202.00000</td>\n",
       "    </tr>\n",
       "    <tr>\n",
       "      <th>5</th>\n",
       "      <td>1778776</td>\n",
       "      <td>1622515953</td>\n",
       "      <td>2021-05-31 23:52:33</td>\n",
       "      <td>2021-05</td>\n",
       "      <td>3.00000</td>\n",
       "    </tr>\n",
       "    <tr>\n",
       "      <th>6</th>\n",
       "      <td>1778775</td>\n",
       "      <td>1622515941</td>\n",
       "      <td>2021-05-31 23:52:21</td>\n",
       "      <td>2021-05</td>\n",
       "      <td>12.00000</td>\n",
       "    </tr>\n",
       "    <tr>\n",
       "      <th>7</th>\n",
       "      <td>1778774</td>\n",
       "      <td>1622515909</td>\n",
       "      <td>2021-05-31 23:51:49</td>\n",
       "      <td>2021-05</td>\n",
       "      <td>32.00000</td>\n",
       "    </tr>\n",
       "    <tr>\n",
       "      <th>8</th>\n",
       "      <td>1778773</td>\n",
       "      <td>1622515865</td>\n",
       "      <td>2021-05-31 23:51:05</td>\n",
       "      <td>2021-05</td>\n",
       "      <td>44.00000</td>\n",
       "    </tr>\n",
       "    <tr>\n",
       "      <th>9</th>\n",
       "      <td>1778772</td>\n",
       "      <td>1622515833</td>\n",
       "      <td>2021-05-31 23:50:33</td>\n",
       "      <td>2021-05</td>\n",
       "      <td>32.00000</td>\n",
       "    </tr>\n",
       "  </tbody>\n",
       "</table>\n",
       "</div>"
      ],
      "text/plain": [
       "    height        time            dateTime monthYear  secondsBetweenBlocks\n",
       "0  1778781  1622516234 2021-05-31 23:57:14   2021-05               0.00000\n",
       "1  1778780  1622516196 2021-05-31 23:56:36   2021-05              38.00000\n",
       "2  1778779  1622516185 2021-05-31 23:56:25   2021-05              11.00000\n",
       "3  1778778  1622516158 2021-05-31 23:55:58   2021-05              27.00000\n",
       "4  1778777  1622515956 2021-05-31 23:52:36   2021-05             202.00000\n",
       "5  1778776  1622515953 2021-05-31 23:52:33   2021-05               3.00000\n",
       "6  1778775  1622515941 2021-05-31 23:52:21   2021-05              12.00000\n",
       "7  1778774  1622515909 2021-05-31 23:51:49   2021-05              32.00000\n",
       "8  1778773  1622515865 2021-05-31 23:51:05   2021-05              44.00000\n",
       "9  1778772  1622515833 2021-05-31 23:50:33   2021-05              32.00000"
      ]
     },
     "execution_count": 12,
     "metadata": {},
     "output_type": "execute_result"
    }
   ],
   "source": [
    "# Time between blocks\n",
    "\n",
    "dfExploration['secondsBetweenBlocks'] = dfExploration['dateTime'].diff().astype('timedelta64[s]')*-1\n",
    "dfExploration['secondsBetweenBlocks'] = dfExploration['secondsBetweenBlocks'].fillna(0)\n",
    "dfExploration.head(10)"
   ]
  },
  {
   "cell_type": "code",
   "execution_count": 13,
   "metadata": {},
   "outputs": [
    {
     "data": {
      "text/html": [
       "<div>\n",
       "<style scoped>\n",
       "    .dataframe tbody tr th:only-of-type {\n",
       "        vertical-align: middle;\n",
       "    }\n",
       "\n",
       "    .dataframe tbody tr th {\n",
       "        vertical-align: top;\n",
       "    }\n",
       "\n",
       "    .dataframe thead th {\n",
       "        text-align: right;\n",
       "    }\n",
       "</style>\n",
       "<table border=\"1\" class=\"dataframe\">\n",
       "  <thead>\n",
       "    <tr style=\"text-align: right;\">\n",
       "      <th></th>\n",
       "      <th>monthYear</th>\n",
       "      <th>secondsBetweenBlocks</th>\n",
       "    </tr>\n",
       "  </thead>\n",
       "  <tbody>\n",
       "    <tr>\n",
       "      <th>0</th>\n",
       "      <td>2021-05</td>\n",
       "      <td>0.00000</td>\n",
       "    </tr>\n",
       "    <tr>\n",
       "      <th>1</th>\n",
       "      <td>2021-05</td>\n",
       "      <td>38.00000</td>\n",
       "    </tr>\n",
       "    <tr>\n",
       "      <th>2</th>\n",
       "      <td>2021-05</td>\n",
       "      <td>11.00000</td>\n",
       "    </tr>\n",
       "    <tr>\n",
       "      <th>3</th>\n",
       "      <td>2021-05</td>\n",
       "      <td>27.00000</td>\n",
       "    </tr>\n",
       "    <tr>\n",
       "      <th>4</th>\n",
       "      <td>2021-05</td>\n",
       "      <td>202.00000</td>\n",
       "    </tr>\n",
       "    <tr>\n",
       "      <th>5</th>\n",
       "      <td>2021-05</td>\n",
       "      <td>3.00000</td>\n",
       "    </tr>\n",
       "    <tr>\n",
       "      <th>6</th>\n",
       "      <td>2021-05</td>\n",
       "      <td>12.00000</td>\n",
       "    </tr>\n",
       "    <tr>\n",
       "      <th>7</th>\n",
       "      <td>2021-05</td>\n",
       "      <td>32.00000</td>\n",
       "    </tr>\n",
       "    <tr>\n",
       "      <th>8</th>\n",
       "      <td>2021-05</td>\n",
       "      <td>44.00000</td>\n",
       "    </tr>\n",
       "    <tr>\n",
       "      <th>9</th>\n",
       "      <td>2021-05</td>\n",
       "      <td>32.00000</td>\n",
       "    </tr>\n",
       "  </tbody>\n",
       "</table>\n",
       "</div>"
      ],
      "text/plain": [
       "  monthYear  secondsBetweenBlocks\n",
       "0   2021-05               0.00000\n",
       "1   2021-05              38.00000\n",
       "2   2021-05              11.00000\n",
       "3   2021-05              27.00000\n",
       "4   2021-05             202.00000\n",
       "5   2021-05               3.00000\n",
       "6   2021-05              12.00000\n",
       "7   2021-05              32.00000\n",
       "8   2021-05              44.00000\n",
       "9   2021-05              32.00000"
      ]
     },
     "execution_count": 13,
     "metadata": {},
     "output_type": "execute_result"
    }
   ],
   "source": [
    "# After verifying that the time between blocks is correct, time and dateTime can be deleted\n",
    "dfExploration = dfExploration.drop('time', 1)\n",
    "dfExploration = dfExploration.drop('dateTime', 1)\n",
    "dfExploration = dfExploration.drop('height', 1)\n",
    "dfExploration.head(10)"
   ]
  },
  {
   "cell_type": "code",
   "execution_count": 14,
   "metadata": {},
   "outputs": [
    {
     "data": {
      "text/html": [
       "<div>\n",
       "<style scoped>\n",
       "    .dataframe tbody tr th:only-of-type {\n",
       "        vertical-align: middle;\n",
       "    }\n",
       "\n",
       "    .dataframe tbody tr th {\n",
       "        vertical-align: top;\n",
       "    }\n",
       "\n",
       "    .dataframe thead th {\n",
       "        text-align: right;\n",
       "    }\n",
       "</style>\n",
       "<table border=\"1\" class=\"dataframe\">\n",
       "  <thead>\n",
       "    <tr style=\"text-align: right;\">\n",
       "      <th></th>\n",
       "      <th>secondsBetweenBlocks</th>\n",
       "    </tr>\n",
       "    <tr>\n",
       "      <th>monthYear</th>\n",
       "      <th></th>\n",
       "    </tr>\n",
       "  </thead>\n",
       "  <tbody>\n",
       "    <tr>\n",
       "      <th>2018-01</th>\n",
       "      <td>45.78702</td>\n",
       "    </tr>\n",
       "    <tr>\n",
       "      <th>2018-02</th>\n",
       "      <td>54.31378</td>\n",
       "    </tr>\n",
       "    <tr>\n",
       "      <th>2018-03</th>\n",
       "      <td>56.14346</td>\n",
       "    </tr>\n",
       "    <tr>\n",
       "      <th>2018-04</th>\n",
       "      <td>61.29363</td>\n",
       "    </tr>\n",
       "    <tr>\n",
       "      <th>2018-05</th>\n",
       "      <td>59.86616</td>\n",
       "    </tr>\n",
       "    <tr>\n",
       "      <th>2018-06</th>\n",
       "      <td>60.45927</td>\n",
       "    </tr>\n",
       "    <tr>\n",
       "      <th>2018-07</th>\n",
       "      <td>63.21432</td>\n",
       "    </tr>\n",
       "    <tr>\n",
       "      <th>2018-08</th>\n",
       "      <td>134.28796</td>\n",
       "    </tr>\n",
       "    <tr>\n",
       "      <th>2018-09</th>\n",
       "      <td>60.41391</td>\n",
       "    </tr>\n",
       "    <tr>\n",
       "      <th>2018-10</th>\n",
       "      <td>60.29142</td>\n",
       "    </tr>\n",
       "    <tr>\n",
       "      <th>2018-11</th>\n",
       "      <td>60.40072</td>\n",
       "    </tr>\n",
       "    <tr>\n",
       "      <th>2018-12</th>\n",
       "      <td>60.41646</td>\n",
       "    </tr>\n",
       "    <tr>\n",
       "      <th>2019-01</th>\n",
       "      <td>60.41121</td>\n",
       "    </tr>\n",
       "    <tr>\n",
       "      <th>2019-02</th>\n",
       "      <td>60.38584</td>\n",
       "    </tr>\n",
       "    <tr>\n",
       "      <th>2019-03</th>\n",
       "      <td>60.25751</td>\n",
       "    </tr>\n",
       "    <tr>\n",
       "      <th>2019-04</th>\n",
       "      <td>60.39157</td>\n",
       "    </tr>\n",
       "    <tr>\n",
       "      <th>2019-05</th>\n",
       "      <td>60.41244</td>\n",
       "    </tr>\n",
       "    <tr>\n",
       "      <th>2019-06</th>\n",
       "      <td>60.43658</td>\n",
       "    </tr>\n",
       "    <tr>\n",
       "      <th>2019-07</th>\n",
       "      <td>60.37024</td>\n",
       "    </tr>\n",
       "    <tr>\n",
       "      <th>2019-08</th>\n",
       "      <td>60.33564</td>\n",
       "    </tr>\n",
       "    <tr>\n",
       "      <th>2019-09</th>\n",
       "      <td>60.35429</td>\n",
       "    </tr>\n",
       "    <tr>\n",
       "      <th>2019-10</th>\n",
       "      <td>60.54681</td>\n",
       "    </tr>\n",
       "    <tr>\n",
       "      <th>2019-11</th>\n",
       "      <td>60.43723</td>\n",
       "    </tr>\n",
       "    <tr>\n",
       "      <th>2019-12</th>\n",
       "      <td>60.34316</td>\n",
       "    </tr>\n",
       "    <tr>\n",
       "      <th>2020-01</th>\n",
       "      <td>60.32122</td>\n",
       "    </tr>\n",
       "    <tr>\n",
       "      <th>2020-02</th>\n",
       "      <td>60.35775</td>\n",
       "    </tr>\n",
       "    <tr>\n",
       "      <th>2020-03</th>\n",
       "      <td>60.38163</td>\n",
       "    </tr>\n",
       "    <tr>\n",
       "      <th>2020-04</th>\n",
       "      <td>60.40399</td>\n",
       "    </tr>\n",
       "    <tr>\n",
       "      <th>2020-05</th>\n",
       "      <td>59.70763</td>\n",
       "    </tr>\n",
       "    <tr>\n",
       "      <th>2020-06</th>\n",
       "      <td>60.39351</td>\n",
       "    </tr>\n",
       "    <tr>\n",
       "      <th>2020-07</th>\n",
       "      <td>60.46485</td>\n",
       "    </tr>\n",
       "    <tr>\n",
       "      <th>2020-08</th>\n",
       "      <td>60.39594</td>\n",
       "    </tr>\n",
       "    <tr>\n",
       "      <th>2020-09</th>\n",
       "      <td>60.37655</td>\n",
       "    </tr>\n",
       "    <tr>\n",
       "      <th>2020-10</th>\n",
       "      <td>60.38597</td>\n",
       "    </tr>\n",
       "    <tr>\n",
       "      <th>2020-11</th>\n",
       "      <td>60.41836</td>\n",
       "    </tr>\n",
       "    <tr>\n",
       "      <th>2020-12</th>\n",
       "      <td>60.38870</td>\n",
       "    </tr>\n",
       "    <tr>\n",
       "      <th>2021-01</th>\n",
       "      <td>60.37425</td>\n",
       "    </tr>\n",
       "    <tr>\n",
       "      <th>2021-02</th>\n",
       "      <td>60.19517</td>\n",
       "    </tr>\n",
       "    <tr>\n",
       "      <th>2021-03</th>\n",
       "      <td>60.37560</td>\n",
       "    </tr>\n",
       "    <tr>\n",
       "      <th>2021-04</th>\n",
       "      <td>60.39257</td>\n",
       "    </tr>\n",
       "    <tr>\n",
       "      <th>2021-05</th>\n",
       "      <td>60.47608</td>\n",
       "    </tr>\n",
       "  </tbody>\n",
       "</table>\n",
       "</div>"
      ],
      "text/plain": [
       "           secondsBetweenBlocks\n",
       "monthYear                      \n",
       "2018-01                45.78702\n",
       "2018-02                54.31378\n",
       "2018-03                56.14346\n",
       "2018-04                61.29363\n",
       "2018-05                59.86616\n",
       "2018-06                60.45927\n",
       "2018-07                63.21432\n",
       "2018-08               134.28796\n",
       "2018-09                60.41391\n",
       "2018-10                60.29142\n",
       "2018-11                60.40072\n",
       "2018-12                60.41646\n",
       "2019-01                60.41121\n",
       "2019-02                60.38584\n",
       "2019-03                60.25751\n",
       "2019-04                60.39157\n",
       "2019-05                60.41244\n",
       "2019-06                60.43658\n",
       "2019-07                60.37024\n",
       "2019-08                60.33564\n",
       "2019-09                60.35429\n",
       "2019-10                60.54681\n",
       "2019-11                60.43723\n",
       "2019-12                60.34316\n",
       "2020-01                60.32122\n",
       "2020-02                60.35775\n",
       "2020-03                60.38163\n",
       "2020-04                60.40399\n",
       "2020-05                59.70763\n",
       "2020-06                60.39351\n",
       "2020-07                60.46485\n",
       "2020-08                60.39594\n",
       "2020-09                60.37655\n",
       "2020-10                60.38597\n",
       "2020-11                60.41836\n",
       "2020-12                60.38870\n",
       "2021-01                60.37425\n",
       "2021-02                60.19517\n",
       "2021-03                60.37560\n",
       "2021-04                60.39257\n",
       "2021-05                60.47608"
      ]
     },
     "execution_count": 14,
     "metadata": {},
     "output_type": "execute_result"
    }
   ],
   "source": [
    "# seconds between blocks\n",
    "dfExploration = dfExploration.groupby('monthYear').mean('secondsBetweenBlocks')\n",
    "\n",
    "dfExploration"
   ]
  },
  {
   "cell_type": "code",
   "execution_count": 15,
   "metadata": {},
   "outputs": [
    {
     "data": {
      "text/plain": [
       "<matplotlib.legend.Legend at 0x1f03bbf2fa0>"
      ]
     },
     "execution_count": 15,
     "metadata": {},
     "output_type": "execute_result"
    },
    {
     "data": {
      "image/png": "[encoded data removed]",
      "text/plain": [
       "<Figure size 432x288 with 1 Axes>"
      ]
     },
     "metadata": {
      "needs_background": "light"
     },
     "output_type": "display_data"
    }
   ],
   "source": [
    "## The line / model\n",
    "for i, col in enumerate(dfExploration.columns):\n",
    "    dfExploration[col].plot()\n",
    "    \n",
    "plt.title('Average monthly time to generate new blocks')\n",
    "\n",
    "plt.xticks(rotation=70)\n",
    "plt.legend(dfExploration.columns)"
   ]
  },
  {
   "cell_type": "markdown",
   "metadata": {},
   "source": [
    "# Results of the data exploration"
   ]
  },
  {
   "cell_type": "markdown",
   "metadata": {},
   "source": [
    "We can see that the average time for creating new blocks has been stable from 09/2018, so that it is possible to predict the date of the next halvings"
   ]
  },
  {
   "cell_type": "markdown",
   "metadata": {},
   "source": [
    "# Data Transformation - last step"
   ]
  },
  {
   "cell_type": "code",
   "execution_count": 16,
   "metadata": {},
   "outputs": [
    {
     "data": {
      "text/html": [
       "<div>\n",
       "<style scoped>\n",
       "    .dataframe tbody tr th:only-of-type {\n",
       "        vertical-align: middle;\n",
       "    }\n",
       "\n",
       "    .dataframe tbody tr th {\n",
       "        vertical-align: top;\n",
       "    }\n",
       "\n",
       "    .dataframe thead th {\n",
       "        text-align: right;\n",
       "    }\n",
       "</style>\n",
       "<table border=\"1\" class=\"dataframe\">\n",
       "  <thead>\n",
       "    <tr style=\"text-align: right;\">\n",
       "      <th></th>\n",
       "      <th>height</th>\n",
       "      <th>time</th>\n",
       "    </tr>\n",
       "  </thead>\n",
       "  <tbody>\n",
       "    <tr>\n",
       "      <th>0</th>\n",
       "      <td>1778781</td>\n",
       "      <td>1622516234</td>\n",
       "    </tr>\n",
       "    <tr>\n",
       "      <th>1</th>\n",
       "      <td>1778780</td>\n",
       "      <td>1622516196</td>\n",
       "    </tr>\n",
       "    <tr>\n",
       "      <th>2</th>\n",
       "      <td>1778779</td>\n",
       "      <td>1622516185</td>\n",
       "    </tr>\n",
       "    <tr>\n",
       "      <th>3</th>\n",
       "      <td>1778778</td>\n",
       "      <td>1622516158</td>\n",
       "    </tr>\n",
       "    <tr>\n",
       "      <th>4</th>\n",
       "      <td>1778777</td>\n",
       "      <td>1622515956</td>\n",
       "    </tr>\n",
       "    <tr>\n",
       "      <th>...</th>\n",
       "      <td>...</td>\n",
       "      <td>...</td>\n",
       "    </tr>\n",
       "    <tr>\n",
       "      <th>1774755</th>\n",
       "      <td>5</td>\n",
       "      <td>1515015840</td>\n",
       "    </tr>\n",
       "    <tr>\n",
       "      <th>1774756</th>\n",
       "      <td>4</td>\n",
       "      <td>1515015833</td>\n",
       "    </tr>\n",
       "    <tr>\n",
       "      <th>1774757</th>\n",
       "      <td>3</td>\n",
       "      <td>1515015816</td>\n",
       "    </tr>\n",
       "    <tr>\n",
       "      <th>1774758</th>\n",
       "      <td>2</td>\n",
       "      <td>1515015759</td>\n",
       "    </tr>\n",
       "    <tr>\n",
       "      <th>1774759</th>\n",
       "      <td>1</td>\n",
       "      <td>1515015723</td>\n",
       "    </tr>\n",
       "  </tbody>\n",
       "</table>\n",
       "<p>1774760 rows × 2 columns</p>\n",
       "</div>"
      ],
      "text/plain": [
       "          height        time\n",
       "0        1778781  1622516234\n",
       "1        1778780  1622516196\n",
       "2        1778779  1622516185\n",
       "3        1778778  1622516158\n",
       "4        1778777  1622515956\n",
       "...          ...         ...\n",
       "1774755        5  1515015840\n",
       "1774756        4  1515015833\n",
       "1774757        3  1515015816\n",
       "1774758        2  1515015759\n",
       "1774759        1  1515015723\n",
       "\n",
       "[1774760 rows x 2 columns]"
      ]
     },
     "execution_count": 16,
     "metadata": {},
     "output_type": "execute_result"
    }
   ],
   "source": [
    "df"
   ]
  },
  {
   "cell_type": "code",
   "execution_count": 17,
   "metadata": {},
   "outputs": [
    {
     "data": {
      "text/html": [
       "<div>\n",
       "<style scoped>\n",
       "    .dataframe tbody tr th:only-of-type {\n",
       "        vertical-align: middle;\n",
       "    }\n",
       "\n",
       "    .dataframe tbody tr th {\n",
       "        vertical-align: top;\n",
       "    }\n",
       "\n",
       "    .dataframe thead th {\n",
       "        text-align: right;\n",
       "    }\n",
       "</style>\n",
       "<table border=\"1\" class=\"dataframe\">\n",
       "  <thead>\n",
       "    <tr style=\"text-align: right;\">\n",
       "      <th></th>\n",
       "      <th>height</th>\n",
       "      <th>time</th>\n",
       "    </tr>\n",
       "  </thead>\n",
       "  <tbody>\n",
       "    <tr>\n",
       "      <th>0</th>\n",
       "      <td>1</td>\n",
       "      <td>1515015723</td>\n",
       "    </tr>\n",
       "    <tr>\n",
       "      <th>1</th>\n",
       "      <td>2</td>\n",
       "      <td>1515015759</td>\n",
       "    </tr>\n",
       "    <tr>\n",
       "      <th>2</th>\n",
       "      <td>3</td>\n",
       "      <td>1515015816</td>\n",
       "    </tr>\n",
       "    <tr>\n",
       "      <th>3</th>\n",
       "      <td>4</td>\n",
       "      <td>1515015833</td>\n",
       "    </tr>\n",
       "    <tr>\n",
       "      <th>4</th>\n",
       "      <td>5</td>\n",
       "      <td>1515015840</td>\n",
       "    </tr>\n",
       "    <tr>\n",
       "      <th>5</th>\n",
       "      <td>6</td>\n",
       "      <td>1515015847</td>\n",
       "    </tr>\n",
       "    <tr>\n",
       "      <th>6</th>\n",
       "      <td>7</td>\n",
       "      <td>1515015905</td>\n",
       "    </tr>\n",
       "    <tr>\n",
       "      <th>7</th>\n",
       "      <td>8</td>\n",
       "      <td>1515015936</td>\n",
       "    </tr>\n",
       "    <tr>\n",
       "      <th>8</th>\n",
       "      <td>9</td>\n",
       "      <td>1515015970</td>\n",
       "    </tr>\n",
       "    <tr>\n",
       "      <th>9</th>\n",
       "      <td>10</td>\n",
       "      <td>1515015971</td>\n",
       "    </tr>\n",
       "  </tbody>\n",
       "</table>\n",
       "</div>"
      ],
      "text/plain": [
       "   height        time\n",
       "0       1  1515015723\n",
       "1       2  1515015759\n",
       "2       3  1515015816\n",
       "3       4  1515015833\n",
       "4       5  1515015840\n",
       "5       6  1515015847\n",
       "6       7  1515015905\n",
       "7       8  1515015936\n",
       "8       9  1515015970\n",
       "9      10  1515015971"
      ]
     },
     "execution_count": 17,
     "metadata": {},
     "output_type": "execute_result"
    }
   ],
   "source": [
    "df.sort_values(by=['height'], inplace=True)\n",
    "df.reset_index(drop=True, inplace=True) \n",
    "\n",
    "df.head(10)"
   ]
  },
  {
   "cell_type": "markdown",
   "metadata": {},
   "source": [
    "### Cut data prior to 09/01/2018"
   ]
  },
  {
   "cell_type": "code",
   "execution_count": 18,
   "metadata": {},
   "outputs": [
    {
     "data": {
      "text/plain": [
       "datetime.datetime(2018, 9, 1, 0, 0)"
      ]
     },
     "execution_count": 18,
     "metadata": {},
     "output_type": "execute_result"
    }
   ],
   "source": [
    "cutoff_date = datetime(2018, 9, 1)\n",
    "cutoff_date"
   ]
  },
  {
   "cell_type": "code",
   "execution_count": 19,
   "metadata": {},
   "outputs": [
    {
     "data": {
      "text/plain": [
       "datetime.datetime(2018, 9, 1, 0, 0)"
      ]
     },
     "execution_count": 19,
     "metadata": {},
     "output_type": "execute_result"
    }
   ],
   "source": [
    "cutoff_datetime = datetime.combine(cutoff_date, datetime.min.time())\n",
    "cutoff_datetime"
   ]
  },
  {
   "cell_type": "code",
   "execution_count": 20,
   "metadata": {},
   "outputs": [
    {
     "data": {
      "text/plain": [
       "1535770800"
      ]
     },
     "execution_count": 20,
     "metadata": {},
     "output_type": "execute_result"
    }
   ],
   "source": [
    "cutoff_timestamp = time.mktime(cutoff_datetime.timetuple())\n",
    "cutoff_timestamp = int(cutoff_timestamp)\n",
    "cutoff_timestamp"
   ]
  },
  {
   "cell_type": "code",
   "execution_count": 21,
   "metadata": {},
   "outputs": [
    {
     "data": {
      "text/html": [
       "<div>\n",
       "<style scoped>\n",
       "    .dataframe tbody tr th:only-of-type {\n",
       "        vertical-align: middle;\n",
       "    }\n",
       "\n",
       "    .dataframe tbody tr th {\n",
       "        vertical-align: top;\n",
       "    }\n",
       "\n",
       "    .dataframe thead th {\n",
       "        text-align: right;\n",
       "    }\n",
       "</style>\n",
       "<table border=\"1\" class=\"dataframe\">\n",
       "  <thead>\n",
       "    <tr style=\"text-align: right;\">\n",
       "      <th></th>\n",
       "      <th>height</th>\n",
       "      <th>time</th>\n",
       "    </tr>\n",
       "  </thead>\n",
       "  <tbody>\n",
       "    <tr>\n",
       "      <th>337717</th>\n",
       "      <td>341701</td>\n",
       "      <td>1535770808</td>\n",
       "    </tr>\n",
       "    <tr>\n",
       "      <th>337718</th>\n",
       "      <td>341702</td>\n",
       "      <td>1535770841</td>\n",
       "    </tr>\n",
       "    <tr>\n",
       "      <th>337719</th>\n",
       "      <td>341703</td>\n",
       "      <td>1535770887</td>\n",
       "    </tr>\n",
       "    <tr>\n",
       "      <th>337720</th>\n",
       "      <td>341704</td>\n",
       "      <td>1535770907</td>\n",
       "    </tr>\n",
       "    <tr>\n",
       "      <th>337721</th>\n",
       "      <td>341705</td>\n",
       "      <td>1535770972</td>\n",
       "    </tr>\n",
       "    <tr>\n",
       "      <th>...</th>\n",
       "      <td>...</td>\n",
       "      <td>...</td>\n",
       "    </tr>\n",
       "    <tr>\n",
       "      <th>1774755</th>\n",
       "      <td>1778777</td>\n",
       "      <td>1622515956</td>\n",
       "    </tr>\n",
       "    <tr>\n",
       "      <th>1774756</th>\n",
       "      <td>1778778</td>\n",
       "      <td>1622516158</td>\n",
       "    </tr>\n",
       "    <tr>\n",
       "      <th>1774757</th>\n",
       "      <td>1778779</td>\n",
       "      <td>1622516185</td>\n",
       "    </tr>\n",
       "    <tr>\n",
       "      <th>1774758</th>\n",
       "      <td>1778780</td>\n",
       "      <td>1622516196</td>\n",
       "    </tr>\n",
       "    <tr>\n",
       "      <th>1774759</th>\n",
       "      <td>1778781</td>\n",
       "      <td>1622516234</td>\n",
       "    </tr>\n",
       "  </tbody>\n",
       "</table>\n",
       "<p>1437043 rows × 2 columns</p>\n",
       "</div>"
      ],
      "text/plain": [
       "          height        time\n",
       "337717    341701  1535770808\n",
       "337718    341702  1535770841\n",
       "337719    341703  1535770887\n",
       "337720    341704  1535770907\n",
       "337721    341705  1535770972\n",
       "...          ...         ...\n",
       "1774755  1778777  1622515956\n",
       "1774756  1778778  1622516158\n",
       "1774757  1778779  1622516185\n",
       "1774758  1778780  1622516196\n",
       "1774759  1778781  1622516234\n",
       "\n",
       "[1437043 rows x 2 columns]"
      ]
     },
     "execution_count": 21,
     "metadata": {},
     "output_type": "execute_result"
    }
   ],
   "source": [
    "df = df[df[\"time\"] > cutoff_timestamp]\n",
    "df"
   ]
  },
  {
   "cell_type": "markdown",
   "metadata": {},
   "source": [
    "# Plotting the data"
   ]
  },
  {
   "cell_type": "code",
   "execution_count": 22,
   "metadata": {},
   "outputs": [
    {
     "data": {
      "text/plain": [
       "<seaborn.axisgrid.JointGrid at 0x1f03bbf2940>"
      ]
     },
     "execution_count": 22,
     "metadata": {},
     "output_type": "execute_result"
    },
    {
     "data": {
      "image/png": "[encoded data removed]",
      "text/plain": [
       "<Figure size 432x432 with 3 Axes>"
      ]
     },
     "metadata": {},
     "output_type": "display_data"
    }
   ],
   "source": [
    "sns.set_theme(color_codes=True)\n",
    "sns.jointplot(x='time', y='height', data=df, kind=\"reg\")"
   ]
  },
  {
   "cell_type": "markdown",
   "metadata": {},
   "source": [
    "# Correlation Analysis"
   ]
  },
  {
   "cell_type": "code",
   "execution_count": 23,
   "metadata": {},
   "outputs": [
    {
     "data": {
      "text/html": [
       "<div>\n",
       "<style scoped>\n",
       "    .dataframe tbody tr th:only-of-type {\n",
       "        vertical-align: middle;\n",
       "    }\n",
       "\n",
       "    .dataframe tbody tr th {\n",
       "        vertical-align: top;\n",
       "    }\n",
       "\n",
       "    .dataframe thead th {\n",
       "        text-align: right;\n",
       "    }\n",
       "</style>\n",
       "<table border=\"1\" class=\"dataframe\">\n",
       "  <thead>\n",
       "    <tr style=\"text-align: right;\">\n",
       "      <th></th>\n",
       "      <th>height</th>\n",
       "      <th>time</th>\n",
       "    </tr>\n",
       "  </thead>\n",
       "  <tbody>\n",
       "    <tr>\n",
       "      <th>height</th>\n",
       "      <td>1.00000</td>\n",
       "      <td>1.00000</td>\n",
       "    </tr>\n",
       "    <tr>\n",
       "      <th>time</th>\n",
       "      <td>1.00000</td>\n",
       "      <td>1.00000</td>\n",
       "    </tr>\n",
       "  </tbody>\n",
       "</table>\n",
       "</div>"
      ],
      "text/plain": [
       "        height    time\n",
       "height 1.00000 1.00000\n",
       "time   1.00000 1.00000"
      ]
     },
     "execution_count": 23,
     "metadata": {},
     "output_type": "execute_result"
    }
   ],
   "source": [
    "correlations = df.corr()\n",
    "correlations"
   ]
  },
  {
   "cell_type": "code",
   "execution_count": 24,
   "metadata": {},
   "outputs": [
    {
     "data": {
      "text/plain": [
       "<AxesSubplot:>"
      ]
     },
     "execution_count": 24,
     "metadata": {},
     "output_type": "execute_result"
    },
    {
     "data": {
      "image/png": "[encoded data removed]",
      "text/plain": [
       "<Figure size 432x288 with 2 Axes>"
      ]
     },
     "metadata": {},
     "output_type": "display_data"
    }
   ],
   "source": [
    "#heatmap\n",
    "\n",
    "\n",
    "sns.heatmap(df.corr(),annot=True, cmap='Reds')"
   ]
  },
  {
   "cell_type": "markdown",
   "metadata": {},
   "source": [
    "# Defining training and testing dataframes"
   ]
  },
  {
   "cell_type": "code",
   "execution_count": 25,
   "metadata": {},
   "outputs": [
    {
     "name": "stdout",
     "output_type": "stream",
     "text": [
      "Training dataframe: 1149634 lines\n",
      "Test dataframe....: 287409 lines\n"
     ]
    }
   ],
   "source": [
    "# x = independent variable -> height\n",
    "# y = dependent variable -> time\n",
    "\n",
    "# here we have 1 variable for linear regression\n",
    "X = df['height']\n",
    "y = df['time']\n",
    "\n",
    "X_training, X_test, y_training, y_test = train_test_split( X, y,\n",
    "                                                          test_size = 0.2, random_state = 20210713)\n",
    "\n",
    "print(f\"Training dataframe: {X_training.shape[0]} lines\")\n",
    "print(f\"Test dataframe....: {X_test.shape[0]} lines\")"
   ]
  },
  {
   "cell_type": "markdown",
   "metadata": {},
   "source": [
    "# Linear Regression"
   ]
  },
  {
   "cell_type": "code",
   "execution_count": 26,
   "metadata": {},
   "outputs": [],
   "source": [
    "X_training = sm.add_constant(X_training)\n",
    "X_test = sm.add_constant(X_test)"
   ]
  },
  {
   "cell_type": "code",
   "execution_count": 27,
   "metadata": {},
   "outputs": [
    {
     "data": {
      "text/plain": [
       "statsmodels.regression.linear_model.RegressionResultsWrapper"
      ]
     },
     "execution_count": 27,
     "metadata": {},
     "output_type": "execute_result"
    }
   ],
   "source": [
    "# Create a model and fit it\n",
    "model_SM = sm.OLS(y_training, X_training).fit()\n",
    "type(model_SM)\n",
    "\n",
    "# SM = statsmodels"
   ]
  },
  {
   "cell_type": "markdown",
   "metadata": {},
   "source": [
    "## Get results"
   ]
  },
  {
   "cell_type": "code",
   "execution_count": 28,
   "metadata": {},
   "outputs": [
    {
     "name": "stdout",
     "output_type": "stream",
     "text": [
      "Coefficient of Determination (𝑅²): 0.9999998959774744\n"
     ]
    }
   ],
   "source": [
    "print('Coefficient of Determination (𝑅²):', model_SM.rsquared)"
   ]
  },
  {
   "cell_type": "code",
   "execution_count": 29,
   "metadata": {},
   "outputs": [
    {
     "name": "stdout",
     "output_type": "stream",
     "text": [
      "Adjusted Coefficient of Determination (adjusted 𝑅²): 0.9999998959773839\n"
     ]
    }
   ],
   "source": [
    "print('Adjusted Coefficient of Determination (adjusted 𝑅²):', model_SM.rsquared_adj)"
   ]
  },
  {
   "cell_type": "code",
   "execution_count": 30,
   "metadata": {},
   "outputs": [
    {
     "name": "stdout",
     "output_type": "stream",
     "text": [
      "Regression Coefficients(intercept, 𝑏₀, 𝑏₁):\n",
      " const    1515155592.04584\n",
      "height           60.35495\n",
      "dtype: float64\n"
     ]
    }
   ],
   "source": [
    "print('Regression Coefficients(intercept, 𝑏₀, 𝑏₁):\\n', model_SM.params)"
   ]
  },
  {
   "cell_type": "code",
   "execution_count": 31,
   "metadata": {},
   "outputs": [
    {
     "name": "stdout",
     "output_type": "stream",
     "text": [
      "P-values:\n",
      " const    0.00000\n",
      "height   0.00000\n",
      "dtype: float64\n"
     ]
    }
   ],
   "source": [
    "print('P-values:\\n', model_SM.pvalues)"
   ]
  },
  {
   "cell_type": "code",
   "execution_count": 32,
   "metadata": {},
   "outputs": [
    {
     "data": {
      "text/html": [
       "<table class=\"simpletable\">\n",
       "<caption>OLS Regression Results</caption>\n",
       "<tr>\n",
       "  <th>Dep. Variable:</th>          <td>time</td>       <th>  R-squared:         </th>  <td>   1.000</td>  \n",
       "</tr>\n",
       "<tr>\n",
       "  <th>Model:</th>                   <td>OLS</td>       <th>  Adj. R-squared:    </th>  <td>   1.000</td>  \n",
       "</tr>\n",
       "<tr>\n",
       "  <th>Method:</th>             <td>Least Squares</td>  <th>  F-statistic:       </th>  <td>1.105e+13</td> \n",
       "</tr>\n",
       "<tr>\n",
       "  <th>Date:</th>             <td>Mon, 26 Jul 2021</td> <th>  Prob (F-statistic):</th>   <td>  0.00</td>   \n",
       "</tr>\n",
       "<tr>\n",
       "  <th>Time:</th>                 <td>15:00:33</td>     <th>  Log-Likelihood:    </th> <td>-1.1974e+07</td>\n",
       "</tr>\n",
       "<tr>\n",
       "  <th>No. Observations:</th>      <td>1149634</td>     <th>  AIC:               </th>  <td>2.395e+07</td> \n",
       "</tr>\n",
       "<tr>\n",
       "  <th>Df Residuals:</th>          <td>1149632</td>     <th>  BIC:               </th>  <td>2.395e+07</td> \n",
       "</tr>\n",
       "<tr>\n",
       "  <th>Df Model:</th>              <td>     1</td>      <th>                     </th>      <td> </td>     \n",
       "</tr>\n",
       "<tr>\n",
       "  <th>Covariance Type:</th>      <td>nonrobust</td>    <th>                     </th>      <td> </td>     \n",
       "</tr>\n",
       "</table>\n",
       "<table class=\"simpletable\">\n",
       "<tr>\n",
       "     <td></td>       <th>coef</th>     <th>std err</th>      <th>t</th>      <th>P>|t|</th>  <th>[0.025</th>    <th>0.975]</th>  \n",
       "</tr>\n",
       "<tr>\n",
       "  <th>const</th>  <td> 1.515e+09</td> <td>   20.672</td> <td> 7.33e+07</td> <td> 0.000</td> <td> 1.52e+09</td> <td> 1.52e+09</td>\n",
       "</tr>\n",
       "<tr>\n",
       "  <th>height</th> <td>   60.3549</td> <td> 1.82e-05</td> <td> 3.32e+06</td> <td> 0.000</td> <td>   60.355</td> <td>   60.355</td>\n",
       "</tr>\n",
       "</table>\n",
       "<table class=\"simpletable\">\n",
       "<tr>\n",
       "  <th>Omnibus:</th>       <td>101837.268</td> <th>  Durbin-Watson:     </th> <td>   2.000</td> \n",
       "</tr>\n",
       "<tr>\n",
       "  <th>Prob(Omnibus):</th>   <td> 0.000</td>   <th>  Jarque-Bera (JB):  </th> <td>66204.888</td>\n",
       "</tr>\n",
       "<tr>\n",
       "  <th>Skew:</th>            <td> 0.469</td>   <th>  Prob(JB):          </th> <td>    0.00</td> \n",
       "</tr>\n",
       "<tr>\n",
       "  <th>Kurtosis:</th>        <td> 2.290</td>   <th>  Cond. No.          </th> <td>3.12e+06</td> \n",
       "</tr>\n",
       "</table><br/><br/>Notes:<br/>[1] Standard Errors assume that the covariance matrix of the errors is correctly specified.<br/>[2] The condition number is large, 3.12e+06. This might indicate that there are<br/>strong multicollinearity or other numerical problems."
      ],
      "text/plain": [
       "<class 'statsmodels.iolib.summary.Summary'>\n",
       "\"\"\"\n",
       "                            OLS Regression Results                            \n",
       "==============================================================================\n",
       "Dep. Variable:                   time   R-squared:                       1.000\n",
       "Model:                            OLS   Adj. R-squared:                  1.000\n",
       "Method:                 Least Squares   F-statistic:                 1.105e+13\n",
       "Date:                Mon, 26 Jul 2021   Prob (F-statistic):               0.00\n",
       "Time:                        15:00:33   Log-Likelihood:            -1.1974e+07\n",
       "No. Observations:             1149634   AIC:                         2.395e+07\n",
       "Df Residuals:                 1149632   BIC:                         2.395e+07\n",
       "Df Model:                           1                                         \n",
       "Covariance Type:            nonrobust                                         \n",
       "==============================================================================\n",
       "                 coef    std err          t      P>|t|      [0.025      0.975]\n",
       "------------------------------------------------------------------------------\n",
       "const       1.515e+09     20.672   7.33e+07      0.000    1.52e+09    1.52e+09\n",
       "height        60.3549   1.82e-05   3.32e+06      0.000      60.355      60.355\n",
       "==============================================================================\n",
       "Omnibus:                   101837.268   Durbin-Watson:                   2.000\n",
       "Prob(Omnibus):                  0.000   Jarque-Bera (JB):            66204.888\n",
       "Skew:                           0.469   Prob(JB):                         0.00\n",
       "Kurtosis:                       2.290   Cond. No.                     3.12e+06\n",
       "==============================================================================\n",
       "\n",
       "Notes:\n",
       "[1] Standard Errors assume that the covariance matrix of the errors is correctly specified.\n",
       "[2] The condition number is large, 3.12e+06. This might indicate that there are\n",
       "strong multicollinearity or other numerical problems.\n",
       "\"\"\""
      ]
     },
     "execution_count": 32,
     "metadata": {},
     "output_type": "execute_result"
    }
   ],
   "source": [
    "model_SM.summary()"
   ]
  },
  {
   "cell_type": "markdown",
   "metadata": {},
   "source": [
    " ## Evaluate"
   ]
  },
  {
   "cell_type": "code",
   "execution_count": 33,
   "metadata": {},
   "outputs": [
    {
     "name": "stdout",
     "output_type": "stream",
     "text": [
      "predicted response:\n",
      "555866    1548945551.26831\n",
      "821299    1564965866.96886\n",
      "1572819   1610325386.93980\n",
      "1427873   1601576454.34492\n",
      "1133921   1583834272.32448\n",
      "                ...       \n",
      "606496    1552001443.01035\n",
      "1312800   1594630927.60509\n",
      "1542586   1608500494.72317\n",
      "623655    1553037073.56814\n",
      "1676371   1616575383.25549\n",
      "Length: 287409, dtype: float64\n"
     ]
    }
   ],
   "source": [
    "y_pred_SM = model_SM.predict(X_test)\n",
    "print('predicted response:', y_pred_SM, sep='\\n')"
   ]
  },
  {
   "cell_type": "code",
   "execution_count": 34,
   "metadata": {
    "scrolled": true
   },
   "outputs": [
    {
     "data": {
      "text/plain": [
       "Text(0, 0.5, 'Predictions')"
      ]
     },
     "execution_count": 34,
     "metadata": {},
     "output_type": "execute_result"
    },
    {
     "data": {
      "image/png": "[encoded data removed]",
      "text/plain": [
       "<Figure size 432x288 with 1 Axes>"
      ]
     },
     "metadata": {},
     "output_type": "display_data"
    }
   ],
   "source": [
    "## The line / model\n",
    "plt.scatter(y_test, y_pred_SM)\n",
    "plt.xlabel(\"True Values\")\n",
    "plt.ylabel(\"Predictions\")"
   ]
  },
  {
   "cell_type": "code",
   "execution_count": 35,
   "metadata": {},
   "outputs": [
    {
     "name": "stdout",
     "output_type": "stream",
     "text": [
      "Mean Absolute Error(MAE):  6525.262966041408\n"
     ]
    }
   ],
   "source": [
    "print('Mean Absolute Error(MAE): ', metrics.mean_absolute_error(y_test, y_pred_SM))"
   ]
  },
  {
   "cell_type": "code",
   "execution_count": 36,
   "metadata": {},
   "outputs": [
    {
     "name": "stdout",
     "output_type": "stream",
     "text": [
      "Mean Square Error(MSE):  65073053.70010137\n"
     ]
    }
   ],
   "source": [
    "print('Mean Square Error(MSE): ', metrics.mean_squared_error(y_test, y_pred_SM))"
   ]
  },
  {
   "cell_type": "code",
   "execution_count": 37,
   "metadata": {},
   "outputs": [
    {
     "name": "stdout",
     "output_type": "stream",
     "text": [
      "Root Mean Square Error(RMSE):  8066.787074176519\n"
     ]
    }
   ],
   "source": [
    "print('Root Mean Square Error(RMSE): ', np.sqrt(metrics.mean_squared_error(y_test, y_pred_SM)))"
   ]
  },
  {
   "cell_type": "markdown",
   "metadata": {},
   "source": [
    "## About the results"
   ]
  },
  {
   "cell_type": "markdown",
   "metadata": {},
   "source": [
    "R2 and the graph of predictions vs correct values give us good results, while MAE, MSE and RMSE indicate that the model is bad.\n",
    "\n",
    "Let's examine the data and determine what the forecast error is on a scale of minutes, so we'll know how useful a forecast obtained with this model can be."
   ]
  },
  {
   "cell_type": "code",
   "execution_count": 38,
   "metadata": {},
   "outputs": [
    {
     "data": {
      "text/html": [
       "<div>\n",
       "<style scoped>\n",
       "    .dataframe tbody tr th:only-of-type {\n",
       "        vertical-align: middle;\n",
       "    }\n",
       "\n",
       "    .dataframe tbody tr th {\n",
       "        vertical-align: top;\n",
       "    }\n",
       "\n",
       "    .dataframe thead th {\n",
       "        text-align: right;\n",
       "    }\n",
       "</style>\n",
       "<table border=\"1\" class=\"dataframe\">\n",
       "  <thead>\n",
       "    <tr style=\"text-align: right;\">\n",
       "      <th></th>\n",
       "      <th>time</th>\n",
       "      <th>prediction</th>\n",
       "    </tr>\n",
       "  </thead>\n",
       "  <tbody>\n",
       "    <tr>\n",
       "      <th>555866</th>\n",
       "      <td>1548943376</td>\n",
       "      <td>1548945551.26831</td>\n",
       "    </tr>\n",
       "    <tr>\n",
       "      <th>821299</th>\n",
       "      <td>1564970602</td>\n",
       "      <td>1564965866.96886</td>\n",
       "    </tr>\n",
       "    <tr>\n",
       "      <th>1572819</th>\n",
       "      <td>1610326237</td>\n",
       "      <td>1610325386.93980</td>\n",
       "    </tr>\n",
       "    <tr>\n",
       "      <th>1427873</th>\n",
       "      <td>1601571728</td>\n",
       "      <td>1601576454.34492</td>\n",
       "    </tr>\n",
       "    <tr>\n",
       "      <th>1133921</th>\n",
       "      <td>1583846688</td>\n",
       "      <td>1583834272.32448</td>\n",
       "    </tr>\n",
       "    <tr>\n",
       "      <th>...</th>\n",
       "      <td>...</td>\n",
       "      <td>...</td>\n",
       "    </tr>\n",
       "    <tr>\n",
       "      <th>606496</th>\n",
       "      <td>1551997975</td>\n",
       "      <td>1552001443.01035</td>\n",
       "    </tr>\n",
       "    <tr>\n",
       "      <th>1312800</th>\n",
       "      <td>1594620203</td>\n",
       "      <td>1594630927.60509</td>\n",
       "    </tr>\n",
       "    <tr>\n",
       "      <th>1542586</th>\n",
       "      <td>1608500160</td>\n",
       "      <td>1608500494.72317</td>\n",
       "    </tr>\n",
       "    <tr>\n",
       "      <th>623655</th>\n",
       "      <td>1553035136</td>\n",
       "      <td>1553037073.56814</td>\n",
       "    </tr>\n",
       "    <tr>\n",
       "      <th>1676371</th>\n",
       "      <td>1616570133</td>\n",
       "      <td>1616575383.25549</td>\n",
       "    </tr>\n",
       "  </tbody>\n",
       "</table>\n",
       "<p>287409 rows × 2 columns</p>\n",
       "</div>"
      ],
      "text/plain": [
       "               time       prediction\n",
       "555866   1548943376 1548945551.26831\n",
       "821299   1564970602 1564965866.96886\n",
       "1572819  1610326237 1610325386.93980\n",
       "1427873  1601571728 1601576454.34492\n",
       "1133921  1583846688 1583834272.32448\n",
       "...             ...              ...\n",
       "606496   1551997975 1552001443.01035\n",
       "1312800  1594620203 1594630927.60509\n",
       "1542586  1608500160 1608500494.72317\n",
       "623655   1553035136 1553037073.56814\n",
       "1676371  1616570133 1616575383.25549\n",
       "\n",
       "[287409 rows x 2 columns]"
      ]
     },
     "execution_count": 38,
     "metadata": {},
     "output_type": "execute_result"
    }
   ],
   "source": [
    "dfResults = pd.DataFrame()\n",
    "dfResults= pd.concat([y_test, y_pred_SM], axis=1)\n",
    "dfResults.rename(columns={0:\"prediction\"}, inplace=True)\n",
    "dfResults"
   ]
  },
  {
   "cell_type": "code",
   "execution_count": 39,
   "metadata": {},
   "outputs": [
    {
     "data": {
      "text/html": [
       "<div>\n",
       "<style scoped>\n",
       "    .dataframe tbody tr th:only-of-type {\n",
       "        vertical-align: middle;\n",
       "    }\n",
       "\n",
       "    .dataframe tbody tr th {\n",
       "        vertical-align: top;\n",
       "    }\n",
       "\n",
       "    .dataframe thead th {\n",
       "        text-align: right;\n",
       "    }\n",
       "</style>\n",
       "<table border=\"1\" class=\"dataframe\">\n",
       "  <thead>\n",
       "    <tr style=\"text-align: right;\">\n",
       "      <th></th>\n",
       "      <th>time</th>\n",
       "      <th>prediction</th>\n",
       "      <th>dateTime</th>\n",
       "      <th>dateTime_pred</th>\n",
       "    </tr>\n",
       "  </thead>\n",
       "  <tbody>\n",
       "    <tr>\n",
       "      <th>337718</th>\n",
       "      <td>1535770841</td>\n",
       "      <td>1535778998.58797</td>\n",
       "      <td>2018-09-01 00:00:41</td>\n",
       "      <td>2018-09-01 02:16:38.587965</td>\n",
       "    </tr>\n",
       "    <tr>\n",
       "      <th>337720</th>\n",
       "      <td>1535770907</td>\n",
       "      <td>1535779119.29786</td>\n",
       "      <td>2018-09-01 00:01:47</td>\n",
       "      <td>2018-09-01 02:18:39.297862</td>\n",
       "    </tr>\n",
       "    <tr>\n",
       "      <th>337725</th>\n",
       "      <td>1535771192</td>\n",
       "      <td>1535779421.07260</td>\n",
       "      <td>2018-09-01 00:06:32</td>\n",
       "      <td>2018-09-01 02:23:41.072603</td>\n",
       "    </tr>\n",
       "    <tr>\n",
       "      <th>337726</th>\n",
       "      <td>1535771219</td>\n",
       "      <td>1535779481.42755</td>\n",
       "      <td>2018-09-01 00:06:59</td>\n",
       "      <td>2018-09-01 02:24:41.427551</td>\n",
       "    </tr>\n",
       "    <tr>\n",
       "      <th>337727</th>\n",
       "      <td>1535771479</td>\n",
       "      <td>1535779541.78250</td>\n",
       "      <td>2018-09-01 00:11:19</td>\n",
       "      <td>2018-09-01 02:25:41.782500</td>\n",
       "    </tr>\n",
       "    <tr>\n",
       "      <th>...</th>\n",
       "      <td>...</td>\n",
       "      <td>...</td>\n",
       "      <td>...</td>\n",
       "      <td>...</td>\n",
       "    </tr>\n",
       "    <tr>\n",
       "      <th>1774728</th>\n",
       "      <td>1622514088</td>\n",
       "      <td>1622511956.32468</td>\n",
       "      <td>2021-05-31 23:21:28</td>\n",
       "      <td>2021-05-31 22:45:56.324683</td>\n",
       "    </tr>\n",
       "    <tr>\n",
       "      <th>1774730</th>\n",
       "      <td>1622514365</td>\n",
       "      <td>1622512077.03458</td>\n",
       "      <td>2021-05-31 23:26:05</td>\n",
       "      <td>2021-05-31 22:47:57.034580</td>\n",
       "    </tr>\n",
       "    <tr>\n",
       "      <th>1774732</th>\n",
       "      <td>1622514596</td>\n",
       "      <td>1622512197.74448</td>\n",
       "      <td>2021-05-31 23:29:56</td>\n",
       "      <td>2021-05-31 22:49:57.744476</td>\n",
       "    </tr>\n",
       "    <tr>\n",
       "      <th>1774736</th>\n",
       "      <td>1622514853</td>\n",
       "      <td>1622512439.16427</td>\n",
       "      <td>2021-05-31 23:34:13</td>\n",
       "      <td>2021-05-31 22:53:59.164269</td>\n",
       "    </tr>\n",
       "    <tr>\n",
       "      <th>1774738</th>\n",
       "      <td>1622515092</td>\n",
       "      <td>1622512559.87417</td>\n",
       "      <td>2021-05-31 23:38:12</td>\n",
       "      <td>2021-05-31 22:55:59.874166</td>\n",
       "    </tr>\n",
       "  </tbody>\n",
       "</table>\n",
       "<p>287409 rows × 4 columns</p>\n",
       "</div>"
      ],
      "text/plain": [
       "               time       prediction            dateTime  \\\n",
       "337718   1535770841 1535778998.58797 2018-09-01 00:00:41   \n",
       "337720   1535770907 1535779119.29786 2018-09-01 00:01:47   \n",
       "337725   1535771192 1535779421.07260 2018-09-01 00:06:32   \n",
       "337726   1535771219 1535779481.42755 2018-09-01 00:06:59   \n",
       "337727   1535771479 1535779541.78250 2018-09-01 00:11:19   \n",
       "...             ...              ...                 ...   \n",
       "1774728  1622514088 1622511956.32468 2021-05-31 23:21:28   \n",
       "1774730  1622514365 1622512077.03458 2021-05-31 23:26:05   \n",
       "1774732  1622514596 1622512197.74448 2021-05-31 23:29:56   \n",
       "1774736  1622514853 1622512439.16427 2021-05-31 23:34:13   \n",
       "1774738  1622515092 1622512559.87417 2021-05-31 23:38:12   \n",
       "\n",
       "                     dateTime_pred  \n",
       "337718  2018-09-01 02:16:38.587965  \n",
       "337720  2018-09-01 02:18:39.297862  \n",
       "337725  2018-09-01 02:23:41.072603  \n",
       "337726  2018-09-01 02:24:41.427551  \n",
       "337727  2018-09-01 02:25:41.782500  \n",
       "...                            ...  \n",
       "1774728 2021-05-31 22:45:56.324683  \n",
       "1774730 2021-05-31 22:47:57.034580  \n",
       "1774732 2021-05-31 22:49:57.744476  \n",
       "1774736 2021-05-31 22:53:59.164269  \n",
       "1774738 2021-05-31 22:55:59.874166  \n",
       "\n",
       "[287409 rows x 4 columns]"
      ]
     },
     "execution_count": 39,
     "metadata": {},
     "output_type": "execute_result"
    }
   ],
   "source": [
    "# Handling the dates\n",
    "dfResults.sort_index(inplace=True)\n",
    "\n",
    "dfResults['dateTime']  = dfResults['time']\n",
    "dfResults['dateTime']  = dfResults['dateTime'].apply(timestampToDateTime)\n",
    "\n",
    "dfResults['dateTime_pred']  = dfResults['prediction']\n",
    "dfResults['dateTime_pred']  = dfResults['dateTime_pred'].apply(timestampToDateTime)\n",
    "\n",
    "dfResults"
   ]
  },
  {
   "cell_type": "code",
   "execution_count": 40,
   "metadata": {},
   "outputs": [
    {
     "data": {
      "text/html": [
       "<div>\n",
       "<style scoped>\n",
       "    .dataframe tbody tr th:only-of-type {\n",
       "        vertical-align: middle;\n",
       "    }\n",
       "\n",
       "    .dataframe tbody tr th {\n",
       "        vertical-align: top;\n",
       "    }\n",
       "\n",
       "    .dataframe thead th {\n",
       "        text-align: right;\n",
       "    }\n",
       "</style>\n",
       "<table border=\"1\" class=\"dataframe\">\n",
       "  <thead>\n",
       "    <tr style=\"text-align: right;\">\n",
       "      <th></th>\n",
       "      <th>time</th>\n",
       "      <th>prediction</th>\n",
       "      <th>dateTime</th>\n",
       "      <th>dateTime_pred</th>\n",
       "      <th>error</th>\n",
       "    </tr>\n",
       "  </thead>\n",
       "  <tbody>\n",
       "    <tr>\n",
       "      <th>337718</th>\n",
       "      <td>1535770841</td>\n",
       "      <td>1535778998.58797</td>\n",
       "      <td>2018-09-01 00:00:41</td>\n",
       "      <td>2018-09-01 02:16:38.587965</td>\n",
       "      <td>-136.00000</td>\n",
       "    </tr>\n",
       "    <tr>\n",
       "      <th>337720</th>\n",
       "      <td>1535770907</td>\n",
       "      <td>1535779119.29786</td>\n",
       "      <td>2018-09-01 00:01:47</td>\n",
       "      <td>2018-09-01 02:18:39.297862</td>\n",
       "      <td>-137.00000</td>\n",
       "    </tr>\n",
       "    <tr>\n",
       "      <th>337725</th>\n",
       "      <td>1535771192</td>\n",
       "      <td>1535779421.07260</td>\n",
       "      <td>2018-09-01 00:06:32</td>\n",
       "      <td>2018-09-01 02:23:41.072603</td>\n",
       "      <td>-138.00000</td>\n",
       "    </tr>\n",
       "    <tr>\n",
       "      <th>337726</th>\n",
       "      <td>1535771219</td>\n",
       "      <td>1535779481.42755</td>\n",
       "      <td>2018-09-01 00:06:59</td>\n",
       "      <td>2018-09-01 02:24:41.427551</td>\n",
       "      <td>-138.00000</td>\n",
       "    </tr>\n",
       "    <tr>\n",
       "      <th>337727</th>\n",
       "      <td>1535771479</td>\n",
       "      <td>1535779541.78250</td>\n",
       "      <td>2018-09-01 00:11:19</td>\n",
       "      <td>2018-09-01 02:25:41.782500</td>\n",
       "      <td>-135.00000</td>\n",
       "    </tr>\n",
       "    <tr>\n",
       "      <th>...</th>\n",
       "      <td>...</td>\n",
       "      <td>...</td>\n",
       "      <td>...</td>\n",
       "      <td>...</td>\n",
       "      <td>...</td>\n",
       "    </tr>\n",
       "    <tr>\n",
       "      <th>1774728</th>\n",
       "      <td>1622514088</td>\n",
       "      <td>1622511956.32468</td>\n",
       "      <td>2021-05-31 23:21:28</td>\n",
       "      <td>2021-05-31 22:45:56.324683</td>\n",
       "      <td>35.00000</td>\n",
       "    </tr>\n",
       "    <tr>\n",
       "      <th>1774730</th>\n",
       "      <td>1622514365</td>\n",
       "      <td>1622512077.03458</td>\n",
       "      <td>2021-05-31 23:26:05</td>\n",
       "      <td>2021-05-31 22:47:57.034580</td>\n",
       "      <td>38.00000</td>\n",
       "    </tr>\n",
       "    <tr>\n",
       "      <th>1774732</th>\n",
       "      <td>1622514596</td>\n",
       "      <td>1622512197.74448</td>\n",
       "      <td>2021-05-31 23:29:56</td>\n",
       "      <td>2021-05-31 22:49:57.744476</td>\n",
       "      <td>39.00000</td>\n",
       "    </tr>\n",
       "    <tr>\n",
       "      <th>1774736</th>\n",
       "      <td>1622514853</td>\n",
       "      <td>1622512439.16427</td>\n",
       "      <td>2021-05-31 23:34:13</td>\n",
       "      <td>2021-05-31 22:53:59.164269</td>\n",
       "      <td>40.00000</td>\n",
       "    </tr>\n",
       "    <tr>\n",
       "      <th>1774738</th>\n",
       "      <td>1622515092</td>\n",
       "      <td>1622512559.87417</td>\n",
       "      <td>2021-05-31 23:38:12</td>\n",
       "      <td>2021-05-31 22:55:59.874166</td>\n",
       "      <td>42.00000</td>\n",
       "    </tr>\n",
       "  </tbody>\n",
       "</table>\n",
       "<p>287409 rows × 5 columns</p>\n",
       "</div>"
      ],
      "text/plain": [
       "               time       prediction            dateTime  \\\n",
       "337718   1535770841 1535778998.58797 2018-09-01 00:00:41   \n",
       "337720   1535770907 1535779119.29786 2018-09-01 00:01:47   \n",
       "337725   1535771192 1535779421.07260 2018-09-01 00:06:32   \n",
       "337726   1535771219 1535779481.42755 2018-09-01 00:06:59   \n",
       "337727   1535771479 1535779541.78250 2018-09-01 00:11:19   \n",
       "...             ...              ...                 ...   \n",
       "1774728  1622514088 1622511956.32468 2021-05-31 23:21:28   \n",
       "1774730  1622514365 1622512077.03458 2021-05-31 23:26:05   \n",
       "1774732  1622514596 1622512197.74448 2021-05-31 23:29:56   \n",
       "1774736  1622514853 1622512439.16427 2021-05-31 23:34:13   \n",
       "1774738  1622515092 1622512559.87417 2021-05-31 23:38:12   \n",
       "\n",
       "                     dateTime_pred      error  \n",
       "337718  2018-09-01 02:16:38.587965 -136.00000  \n",
       "337720  2018-09-01 02:18:39.297862 -137.00000  \n",
       "337725  2018-09-01 02:23:41.072603 -138.00000  \n",
       "337726  2018-09-01 02:24:41.427551 -138.00000  \n",
       "337727  2018-09-01 02:25:41.782500 -135.00000  \n",
       "...                            ...        ...  \n",
       "1774728 2021-05-31 22:45:56.324683   35.00000  \n",
       "1774730 2021-05-31 22:47:57.034580   38.00000  \n",
       "1774732 2021-05-31 22:49:57.744476   39.00000  \n",
       "1774736 2021-05-31 22:53:59.164269   40.00000  \n",
       "1774738 2021-05-31 22:55:59.874166   42.00000  \n",
       "\n",
       "[287409 rows x 5 columns]"
      ]
     },
     "execution_count": 40,
     "metadata": {},
     "output_type": "execute_result"
    }
   ],
   "source": [
    "dfResults['error'] = (dfResults['dateTime'] - dfResults['dateTime_pred']).astype('timedelta64[m]')\n",
    "dfResults['error'] = dfResults['error'].fillna(0)\n",
    "dfResults"
   ]
  },
  {
   "cell_type": "code",
   "execution_count": 41,
   "metadata": {},
   "outputs": [
    {
     "data": {
      "text/html": [
       "<div>\n",
       "<style scoped>\n",
       "    .dataframe tbody tr th:only-of-type {\n",
       "        vertical-align: middle;\n",
       "    }\n",
       "\n",
       "    .dataframe tbody tr th {\n",
       "        vertical-align: top;\n",
       "    }\n",
       "\n",
       "    .dataframe thead th {\n",
       "        text-align: right;\n",
       "    }\n",
       "</style>\n",
       "<table border=\"1\" class=\"dataframe\">\n",
       "  <thead>\n",
       "    <tr style=\"text-align: right;\">\n",
       "      <th></th>\n",
       "      <th>error_min</th>\n",
       "    </tr>\n",
       "  </thead>\n",
       "  <tbody>\n",
       "    <tr>\n",
       "      <th>0</th>\n",
       "      <td>-136</td>\n",
       "    </tr>\n",
       "    <tr>\n",
       "      <th>1</th>\n",
       "      <td>-137</td>\n",
       "    </tr>\n",
       "    <tr>\n",
       "      <th>2</th>\n",
       "      <td>-138</td>\n",
       "    </tr>\n",
       "    <tr>\n",
       "      <th>3</th>\n",
       "      <td>-138</td>\n",
       "    </tr>\n",
       "    <tr>\n",
       "      <th>4</th>\n",
       "      <td>-135</td>\n",
       "    </tr>\n",
       "    <tr>\n",
       "      <th>...</th>\n",
       "      <td>...</td>\n",
       "    </tr>\n",
       "    <tr>\n",
       "      <th>287404</th>\n",
       "      <td>35</td>\n",
       "    </tr>\n",
       "    <tr>\n",
       "      <th>287405</th>\n",
       "      <td>38</td>\n",
       "    </tr>\n",
       "    <tr>\n",
       "      <th>287406</th>\n",
       "      <td>39</td>\n",
       "    </tr>\n",
       "    <tr>\n",
       "      <th>287407</th>\n",
       "      <td>40</td>\n",
       "    </tr>\n",
       "    <tr>\n",
       "      <th>287408</th>\n",
       "      <td>42</td>\n",
       "    </tr>\n",
       "  </tbody>\n",
       "</table>\n",
       "<p>287409 rows × 1 columns</p>\n",
       "</div>"
      ],
      "text/plain": [
       "        error_min\n",
       "0            -136\n",
       "1            -137\n",
       "2            -138\n",
       "3            -138\n",
       "4            -135\n",
       "...           ...\n",
       "287404         35\n",
       "287405         38\n",
       "287406         39\n",
       "287407         40\n",
       "287408         42\n",
       "\n",
       "[287409 rows x 1 columns]"
      ]
     },
     "execution_count": 41,
     "metadata": {},
     "output_type": "execute_result"
    }
   ],
   "source": [
    "dfError = pd.DataFrame()\n",
    "dfError['error_min'] = dfResults['error'].astype(int)\n",
    "\n",
    "dfError.sort_index(inplace=True)\n",
    "\n",
    "dfError.reset_index(inplace=True)\n",
    "dfError = dfError.drop('index', 1)\n",
    "\n",
    "dfError"
   ]
  },
  {
   "cell_type": "code",
   "execution_count": 42,
   "metadata": {},
   "outputs": [
    {
     "data": {
      "image/png": "[encoded data removed]",
      "text/plain": [
       "<Figure size 432x288 with 1 Axes>"
      ]
     },
     "metadata": {},
     "output_type": "display_data"
    }
   ],
   "source": [
    "plt.plot(dfError)\n",
    "plt.xlabel(\"Observation\")\n",
    "plt.ylabel(\"Error (in minutes)\")\n",
    "plt.show()"
   ]
  },
  {
   "cell_type": "code",
   "execution_count": 43,
   "metadata": {},
   "outputs": [
    {
     "data": {
      "text/html": [
       "<div>\n",
       "<style scoped>\n",
       "    .dataframe tbody tr th:only-of-type {\n",
       "        vertical-align: middle;\n",
       "    }\n",
       "\n",
       "    .dataframe tbody tr th {\n",
       "        vertical-align: top;\n",
       "    }\n",
       "\n",
       "    .dataframe thead th {\n",
       "        text-align: right;\n",
       "    }\n",
       "</style>\n",
       "<table border=\"1\" class=\"dataframe\">\n",
       "  <thead>\n",
       "    <tr style=\"text-align: right;\">\n",
       "      <th></th>\n",
       "      <th>error_min</th>\n",
       "      <th>error_min_module</th>\n",
       "    </tr>\n",
       "  </thead>\n",
       "  <tbody>\n",
       "    <tr>\n",
       "      <th>0</th>\n",
       "      <td>-136</td>\n",
       "      <td>136</td>\n",
       "    </tr>\n",
       "    <tr>\n",
       "      <th>1</th>\n",
       "      <td>-137</td>\n",
       "      <td>137</td>\n",
       "    </tr>\n",
       "    <tr>\n",
       "      <th>2</th>\n",
       "      <td>-138</td>\n",
       "      <td>138</td>\n",
       "    </tr>\n",
       "    <tr>\n",
       "      <th>3</th>\n",
       "      <td>-138</td>\n",
       "      <td>138</td>\n",
       "    </tr>\n",
       "    <tr>\n",
       "      <th>4</th>\n",
       "      <td>-135</td>\n",
       "      <td>135</td>\n",
       "    </tr>\n",
       "    <tr>\n",
       "      <th>...</th>\n",
       "      <td>...</td>\n",
       "      <td>...</td>\n",
       "    </tr>\n",
       "    <tr>\n",
       "      <th>287404</th>\n",
       "      <td>35</td>\n",
       "      <td>35</td>\n",
       "    </tr>\n",
       "    <tr>\n",
       "      <th>287405</th>\n",
       "      <td>38</td>\n",
       "      <td>38</td>\n",
       "    </tr>\n",
       "    <tr>\n",
       "      <th>287406</th>\n",
       "      <td>39</td>\n",
       "      <td>39</td>\n",
       "    </tr>\n",
       "    <tr>\n",
       "      <th>287407</th>\n",
       "      <td>40</td>\n",
       "      <td>40</td>\n",
       "    </tr>\n",
       "    <tr>\n",
       "      <th>287408</th>\n",
       "      <td>42</td>\n",
       "      <td>42</td>\n",
       "    </tr>\n",
       "  </tbody>\n",
       "</table>\n",
       "<p>287409 rows × 2 columns</p>\n",
       "</div>"
      ],
      "text/plain": [
       "        error_min  error_min_module\n",
       "0            -136               136\n",
       "1            -137               137\n",
       "2            -138               138\n",
       "3            -138               138\n",
       "4            -135               135\n",
       "...           ...               ...\n",
       "287404         35                35\n",
       "287405         38                38\n",
       "287406         39                39\n",
       "287407         40                40\n",
       "287408         42                42\n",
       "\n",
       "[287409 rows x 2 columns]"
      ]
     },
     "execution_count": 43,
     "metadata": {},
     "output_type": "execute_result"
    }
   ],
   "source": [
    "dfError['error_min_module'] = dfError['error_min'].abs()\n",
    "dfError"
   ]
  },
  {
   "cell_type": "code",
   "execution_count": 44,
   "metadata": {},
   "outputs": [],
   "source": [
    "def toHourMin(minutes):\n",
    "    \n",
    "    minutes = abs(minutes)\n",
    "    \n",
    "    h = 0\n",
    "    m = 0\n",
    "    \n",
    "    if (minutes % 60 >= 0):\n",
    "        h = int(minutes/60)\n",
    "        m = int(minutes % 60)\n",
    "    else:\n",
    "        m = minutes\n",
    "\n",
    "    return str(h)+'h '+str(m)+ 'm'"
   ]
  },
  {
   "cell_type": "code",
   "execution_count": 45,
   "metadata": {},
   "outputs": [
    {
     "name": "stdout",
     "output_type": "stream",
     "text": [
      "Highest error value:  301\n"
     ]
    },
    {
     "data": {
      "text/plain": [
       "'5h 1m'"
      ]
     },
     "execution_count": 45,
     "metadata": {},
     "output_type": "execute_result"
    }
   ],
   "source": [
    "print('Highest error value: ', dfError['error_min'].max())\n",
    "toHourMin(dfError['error_min'].max())"
   ]
  },
  {
   "cell_type": "code",
   "execution_count": 46,
   "metadata": {},
   "outputs": [
    {
     "name": "stdout",
     "output_type": "stream",
     "text": [
      "Lowest error value:  -283\n"
     ]
    },
    {
     "data": {
      "text/plain": [
       "'4h 43m'"
      ]
     },
     "execution_count": 46,
     "metadata": {},
     "output_type": "execute_result"
    }
   ],
   "source": [
    "print('Lowest error value: ', dfError['error_min'].min())\n",
    "toHourMin(dfError['error_min'].min())"
   ]
  },
  {
   "cell_type": "code",
   "execution_count": 47,
   "metadata": {},
   "outputs": [
    {
     "name": "stdout",
     "output_type": "stream",
     "text": [
      "Average error:  108.8352626396529\n"
     ]
    },
    {
     "data": {
      "text/plain": [
       "'1h 48m'"
      ]
     },
     "execution_count": 47,
     "metadata": {},
     "output_type": "execute_result"
    }
   ],
   "source": [
    "print('Average error: ', dfError['error_min_module'].mean())\n",
    "toHourMin(dfError['error_min_module'].mean())"
   ]
  },
  {
   "cell_type": "markdown",
   "metadata": {},
   "source": [
    "## Understanding the error"
   ]
  },
  {
   "cell_type": "code",
   "execution_count": 48,
   "metadata": {},
   "outputs": [
    {
     "data": {
      "text/html": [
       "<div>\n",
       "<style scoped>\n",
       "    .dataframe tbody tr th:only-of-type {\n",
       "        vertical-align: middle;\n",
       "    }\n",
       "\n",
       "    .dataframe tbody tr th {\n",
       "        vertical-align: top;\n",
       "    }\n",
       "\n",
       "    .dataframe thead th {\n",
       "        text-align: right;\n",
       "    }\n",
       "</style>\n",
       "<table border=\"1\" class=\"dataframe\">\n",
       "  <thead>\n",
       "    <tr style=\"text-align: right;\">\n",
       "      <th></th>\n",
       "      <th>Class_Interval</th>\n",
       "      <th>Frequency</th>\n",
       "      <th>Relative_Frequency</th>\n",
       "    </tr>\n",
       "  </thead>\n",
       "  <tbody>\n",
       "    <tr>\n",
       "      <th>0</th>\n",
       "      <td>(-283.585, -199.571]</td>\n",
       "      <td>14584</td>\n",
       "      <td>0.05074</td>\n",
       "    </tr>\n",
       "    <tr>\n",
       "      <th>1</th>\n",
       "      <td>(-199.571, -116.143]</td>\n",
       "      <td>33783</td>\n",
       "      <td>0.11754</td>\n",
       "    </tr>\n",
       "    <tr>\n",
       "      <th>2</th>\n",
       "      <td>(-116.143, -32.714]</td>\n",
       "      <td>93234</td>\n",
       "      <td>0.32439</td>\n",
       "    </tr>\n",
       "    <tr>\n",
       "      <th>3</th>\n",
       "      <td>(-32.714, 50.714]</td>\n",
       "      <td>66962</td>\n",
       "      <td>0.23299</td>\n",
       "    </tr>\n",
       "    <tr>\n",
       "      <th>4</th>\n",
       "      <td>(50.714, 134.143]</td>\n",
       "      <td>16423</td>\n",
       "      <td>0.05714</td>\n",
       "    </tr>\n",
       "    <tr>\n",
       "      <th>5</th>\n",
       "      <td>(134.143, 217.571]</td>\n",
       "      <td>33211</td>\n",
       "      <td>0.11555</td>\n",
       "    </tr>\n",
       "    <tr>\n",
       "      <th>6</th>\n",
       "      <td>(217.571, 301.0]</td>\n",
       "      <td>29212</td>\n",
       "      <td>0.10164</td>\n",
       "    </tr>\n",
       "  </tbody>\n",
       "</table>\n",
       "</div>"
      ],
      "text/plain": [
       "         Class_Interval  Frequency  Relative_Frequency\n",
       "0  (-283.585, -199.571]      14584             0.05074\n",
       "1  (-199.571, -116.143]      33783             0.11754\n",
       "2   (-116.143, -32.714]      93234             0.32439\n",
       "3     (-32.714, 50.714]      66962             0.23299\n",
       "4     (50.714, 134.143]      16423             0.05714\n",
       "5    (134.143, 217.571]      33211             0.11555\n",
       "6      (217.571, 301.0]      29212             0.10164"
      ]
     },
     "execution_count": 48,
     "metadata": {},
     "output_type": "execute_result"
    }
   ],
   "source": [
    "dfErrorAnalysis = dfError['error_min'].value_counts(bins = 7, sort=False)\n",
    "\n",
    "dfErrorAnalysis = dfErrorAnalysis.reset_index()\n",
    "dfErrorAnalysis.rename(columns={'index':'Class_Interval'}, inplace=True)\n",
    "\n",
    "dfErrorAnalysis.rename(columns={'error_min':'Frequency'}, inplace=True)\n",
    "\n",
    "dfErrorAnalysis['Relative_Frequency'] = dfErrorAnalysis['Frequency']/dfErrorAnalysis['Frequency'].sum()\n",
    "\n",
    "dfErrorAnalysis"
   ]
  },
  {
   "cell_type": "code",
   "execution_count": 49,
   "metadata": {},
   "outputs": [
    {
     "data": {
      "image/png": "[encoded data removed]",
      "text/plain": [
       "<Figure size 720x288 with 1 Axes>"
      ]
     },
     "metadata": {},
     "output_type": "display_data"
    }
   ],
   "source": [
    "fig = plt.figure(figsize=(10, 4))\n",
    "ax = fig.add_axes([0,0,1,1])\n",
    "ax.bar(dfErrorAnalysis['Class_Interval'].astype(str), dfErrorAnalysis['Frequency'])\n",
    "plt.xticks(size = 9.5)\n",
    "plt.grid(True)\n",
    "plt.title('Understanding the error')\n",
    "plt.xlabel('Frequency')\n",
    "plt.ylabel('Class Interval')\n",
    "plt.show()"
   ]
  },
  {
   "cell_type": "markdown",
   "metadata": {},
   "source": [
    "## Conclusion on the evaluation of results"
   ]
  },
  {
   "cell_type": "markdown",
   "metadata": {},
   "source": [
    "Considering the maximum margin of error of about 5 hours, the application of this technique seems to be didactically adequate for the purpose of trying to predict the moment of occurrence of the next Ravencoin reduction."
   ]
  },
  {
   "cell_type": "markdown",
   "metadata": {},
   "source": [
    "## Real world application: Predicting the next halvings"
   ]
  },
  {
   "cell_type": "code",
   "execution_count": 50,
   "metadata": {},
   "outputs": [
    {
     "data": {
      "text/plain": [
       "array([[1.0e+00, 2.1e+06],\n",
       "       [1.0e+00, 4.2e+06],\n",
       "       [1.0e+00, 6.3e+06],\n",
       "       [1.0e+00, 8.4e+06]])"
      ]
     },
     "execution_count": 50,
     "metadata": {},
     "output_type": "execute_result"
    }
   ],
   "source": [
    "blocks2HalvingRVN = 2100000\n",
    "blocks2nextHalvingsRVN = [blocks2HalvingRVN, blocks2HalvingRVN*2, blocks2HalvingRVN*3, blocks2HalvingRVN*4]\n",
    "new_x = np.array(blocks2nextHalvingsRVN).reshape((-1, 1))\n",
    "new_x = sm.add_constant(new_x)\n",
    "new_x"
   ]
  },
  {
   "cell_type": "code",
   "execution_count": 51,
   "metadata": {},
   "outputs": [
    {
     "name": "stdout",
     "output_type": "stream",
     "text": [
      "predicted response:\n",
      "[1.64190098e+09 1.76864637e+09 1.89539177e+09 2.02213716e+09]\n"
     ]
    }
   ],
   "source": [
    "new_y = model_SM.predict(new_x)\n",
    "print('predicted response:', new_y, sep='\\n')"
   ]
  },
  {
   "cell_type": "code",
   "execution_count": 52,
   "metadata": {},
   "outputs": [
    {
     "data": {
      "text/html": [
       "<div>\n",
       "<style scoped>\n",
       "    .dataframe tbody tr th:only-of-type {\n",
       "        vertical-align: middle;\n",
       "    }\n",
       "\n",
       "    .dataframe tbody tr th {\n",
       "        vertical-align: top;\n",
       "    }\n",
       "\n",
       "    .dataframe thead th {\n",
       "        text-align: right;\n",
       "    }\n",
       "</style>\n",
       "<table border=\"1\" class=\"dataframe\">\n",
       "  <thead>\n",
       "    <tr style=\"text-align: right;\">\n",
       "      <th></th>\n",
       "      <th>predicted_timestamp</th>\n",
       "    </tr>\n",
       "  </thead>\n",
       "  <tbody>\n",
       "    <tr>\n",
       "      <th>0</th>\n",
       "      <td>1641900983.46429</td>\n",
       "    </tr>\n",
       "    <tr>\n",
       "      <th>1</th>\n",
       "      <td>1768646374.88275</td>\n",
       "    </tr>\n",
       "    <tr>\n",
       "      <th>2</th>\n",
       "      <td>1895391766.30120</td>\n",
       "    </tr>\n",
       "    <tr>\n",
       "      <th>3</th>\n",
       "      <td>2022137157.71966</td>\n",
       "    </tr>\n",
       "  </tbody>\n",
       "</table>\n",
       "</div>"
      ],
      "text/plain": [
       "   predicted_timestamp\n",
       "0     1641900983.46429\n",
       "1     1768646374.88275\n",
       "2     1895391766.30120\n",
       "3     2022137157.71966"
      ]
     },
     "execution_count": 52,
     "metadata": {},
     "output_type": "execute_result"
    }
   ],
   "source": [
    "dfHalvingProjection = pd.DataFrame(new_y)\n",
    "dfHalvingProjection.columns = ['predicted_timestamp']\n",
    "dfHalvingProjection"
   ]
  },
  {
   "cell_type": "code",
   "execution_count": 53,
   "metadata": {},
   "outputs": [
    {
     "data": {
      "text/html": [
       "<div>\n",
       "<style scoped>\n",
       "    .dataframe tbody tr th:only-of-type {\n",
       "        vertical-align: middle;\n",
       "    }\n",
       "\n",
       "    .dataframe tbody tr th {\n",
       "        vertical-align: top;\n",
       "    }\n",
       "\n",
       "    .dataframe thead th {\n",
       "        text-align: right;\n",
       "    }\n",
       "</style>\n",
       "<table border=\"1\" class=\"dataframe\">\n",
       "  <thead>\n",
       "    <tr style=\"text-align: right;\">\n",
       "      <th></th>\n",
       "      <th>predicted_timestamp</th>\n",
       "      <th>predicted_date</th>\n",
       "      <th>predicted_datetime</th>\n",
       "    </tr>\n",
       "  </thead>\n",
       "  <tbody>\n",
       "    <tr>\n",
       "      <th>0</th>\n",
       "      <td>1641900983.46429</td>\n",
       "      <td>2022-01-11</td>\n",
       "      <td>2022-01-11 08:36:23.464292</td>\n",
       "    </tr>\n",
       "    <tr>\n",
       "      <th>1</th>\n",
       "      <td>1768646374.88275</td>\n",
       "      <td>2026-01-17</td>\n",
       "      <td>2026-01-17 07:39:34.882746</td>\n",
       "    </tr>\n",
       "    <tr>\n",
       "      <th>2</th>\n",
       "      <td>1895391766.30120</td>\n",
       "      <td>2030-01-23</td>\n",
       "      <td>2030-01-23 06:42:46.301201</td>\n",
       "    </tr>\n",
       "    <tr>\n",
       "      <th>3</th>\n",
       "      <td>2022137157.71966</td>\n",
       "      <td>2034-01-29</td>\n",
       "      <td>2034-01-29 05:45:57.719656</td>\n",
       "    </tr>\n",
       "  </tbody>\n",
       "</table>\n",
       "</div>"
      ],
      "text/plain": [
       "   predicted_timestamp predicted_date         predicted_datetime\n",
       "0     1641900983.46429     2022-01-11 2022-01-11 08:36:23.464292\n",
       "1     1768646374.88275     2026-01-17 2026-01-17 07:39:34.882746\n",
       "2     1895391766.30120     2030-01-23 2030-01-23 06:42:46.301201\n",
       "3     2022137157.71966     2034-01-29 2034-01-29 05:45:57.719656"
      ]
     },
     "execution_count": 53,
     "metadata": {},
     "output_type": "execute_result"
    }
   ],
   "source": [
    "# Making timestamp humanly friendly\n",
    "# For each timestamp a new block is generated, and each block corresponds to 5,000 new coins.\n",
    "\n",
    "dfHalvingProjection['predicted_date']  = dfHalvingProjection['predicted_timestamp']\n",
    "dfHalvingProjection['predicted_date']  = dfHalvingProjection['predicted_timestamp'].apply(timestampToDate)\n",
    "\n",
    "dfHalvingProjection['predicted_datetime']  = dfHalvingProjection['predicted_timestamp']\n",
    "dfHalvingProjection['predicted_datetime']  = dfHalvingProjection['predicted_timestamp'].apply(timestampToDateTime)\n",
    "dfHalvingProjection"
   ]
  },
  {
   "cell_type": "code",
   "execution_count": 54,
   "metadata": {
    "scrolled": true
   },
   "outputs": [
    {
     "data": {
      "text/html": [
       "<div>\n",
       "<style scoped>\n",
       "    .dataframe tbody tr th:only-of-type {\n",
       "        vertical-align: middle;\n",
       "    }\n",
       "\n",
       "    .dataframe tbody tr th {\n",
       "        vertical-align: top;\n",
       "    }\n",
       "\n",
       "    .dataframe thead th {\n",
       "        text-align: right;\n",
       "    }\n",
       "</style>\n",
       "<table border=\"1\" class=\"dataframe\">\n",
       "  <thead>\n",
       "    <tr style=\"text-align: right;\">\n",
       "      <th></th>\n",
       "      <th>Forecast</th>\n",
       "    </tr>\n",
       "  </thead>\n",
       "  <tbody>\n",
       "    <tr>\n",
       "      <th>0</th>\n",
       "      <td>2022-01-11</td>\n",
       "    </tr>\n",
       "    <tr>\n",
       "      <th>1</th>\n",
       "      <td>2026-01-17</td>\n",
       "    </tr>\n",
       "    <tr>\n",
       "      <th>2</th>\n",
       "      <td>2030-01-23</td>\n",
       "    </tr>\n",
       "    <tr>\n",
       "      <th>3</th>\n",
       "      <td>2034-01-29</td>\n",
       "    </tr>\n",
       "  </tbody>\n",
       "</table>\n",
       "</div>"
      ],
      "text/plain": [
       "     Forecast\n",
       "0  2022-01-11\n",
       "1  2026-01-17\n",
       "2  2030-01-23\n",
       "3  2034-01-29"
      ]
     },
     "execution_count": 54,
     "metadata": {},
     "output_type": "execute_result"
    }
   ],
   "source": [
    "dfPlot = pd.DataFrame()\n",
    "dfPlot['Forecast'] = dfHalvingProjection['predicted_date']\n",
    "dfPlot"
   ]
  },
  {
   "cell_type": "code",
   "execution_count": 55,
   "metadata": {},
   "outputs": [
    {
     "data": {
      "text/html": [
       "<div>\n",
       "<style scoped>\n",
       "    .dataframe tbody tr th:only-of-type {\n",
       "        vertical-align: middle;\n",
       "    }\n",
       "\n",
       "    .dataframe tbody tr th {\n",
       "        vertical-align: top;\n",
       "    }\n",
       "\n",
       "    .dataframe thead th {\n",
       "        text-align: right;\n",
       "    }\n",
       "</style>\n",
       "<table border=\"1\" class=\"dataframe\">\n",
       "  <thead>\n",
       "    <tr style=\"text-align: right;\">\n",
       "      <th></th>\n",
       "      <th>Halving</th>\n",
       "      <th>Forecast</th>\n",
       "    </tr>\n",
       "  </thead>\n",
       "  <tbody>\n",
       "    <tr>\n",
       "      <th>0</th>\n",
       "      <td>0</td>\n",
       "      <td>2018-03-10</td>\n",
       "    </tr>\n",
       "    <tr>\n",
       "      <th>1</th>\n",
       "      <td>1</td>\n",
       "      <td>2022-01-11</td>\n",
       "    </tr>\n",
       "    <tr>\n",
       "      <th>2</th>\n",
       "      <td>2</td>\n",
       "      <td>2026-01-17</td>\n",
       "    </tr>\n",
       "    <tr>\n",
       "      <th>3</th>\n",
       "      <td>3</td>\n",
       "      <td>2030-01-23</td>\n",
       "    </tr>\n",
       "    <tr>\n",
       "      <th>4</th>\n",
       "      <td>4</td>\n",
       "      <td>2034-01-29</td>\n",
       "    </tr>\n",
       "  </tbody>\n",
       "</table>\n",
       "</div>"
      ],
      "text/plain": [
       "   Halving    Forecast\n",
       "0        0  2018-03-10\n",
       "1        1  2022-01-11\n",
       "2        2  2026-01-17\n",
       "3        3  2030-01-23\n",
       "4        4  2034-01-29"
      ]
     },
     "execution_count": 55,
     "metadata": {},
     "output_type": "execute_result"
    }
   ],
   "source": [
    "# Adding date of first mined block\n",
    "dfPlot.loc[4] = [datetime.strptime('10/03/2018', '%d/%m/%Y').date()]\n",
    "dfPlot.sort_values(by=['Forecast'], inplace=True)\n",
    "\n",
    "dfPlot.reset_index(inplace=True)\n",
    "dfPlot = dfPlot.drop('index', 1)\n",
    "\n",
    "dfPlot.reset_index(inplace=True)\n",
    "dfPlot.rename(columns={'index':'Halving'}, inplace=True)\n",
    "\n",
    "dfPlot"
   ]
  },
  {
   "cell_type": "code",
   "execution_count": 56,
   "metadata": {},
   "outputs": [
    {
     "data": {
      "text/html": [
       "<div>\n",
       "<style scoped>\n",
       "    .dataframe tbody tr th:only-of-type {\n",
       "        vertical-align: middle;\n",
       "    }\n",
       "\n",
       "    .dataframe tbody tr th {\n",
       "        vertical-align: top;\n",
       "    }\n",
       "\n",
       "    .dataframe thead th {\n",
       "        text-align: right;\n",
       "    }\n",
       "</style>\n",
       "<table border=\"1\" class=\"dataframe\">\n",
       "  <thead>\n",
       "    <tr style=\"text-align: right;\">\n",
       "      <th></th>\n",
       "      <th>Halving</th>\n",
       "      <th>Forecast</th>\n",
       "    </tr>\n",
       "  </thead>\n",
       "  <tbody>\n",
       "    <tr>\n",
       "      <th>0</th>\n",
       "      <td>1</td>\n",
       "      <td>2018-03-10</td>\n",
       "    </tr>\n",
       "    <tr>\n",
       "      <th>1</th>\n",
       "      <td>1</td>\n",
       "      <td>2022-01-11</td>\n",
       "    </tr>\n",
       "    <tr>\n",
       "      <th>2</th>\n",
       "      <td>2</td>\n",
       "      <td>2026-01-17</td>\n",
       "    </tr>\n",
       "    <tr>\n",
       "      <th>3</th>\n",
       "      <td>3</td>\n",
       "      <td>2030-01-23</td>\n",
       "    </tr>\n",
       "    <tr>\n",
       "      <th>4</th>\n",
       "      <td>4</td>\n",
       "      <td>2034-01-29</td>\n",
       "    </tr>\n",
       "  </tbody>\n",
       "</table>\n",
       "</div>"
      ],
      "text/plain": [
       "   Halving    Forecast\n",
       "0        1  2018-03-10\n",
       "1        1  2022-01-11\n",
       "2        2  2026-01-17\n",
       "3        3  2030-01-23\n",
       "4        4  2034-01-29"
      ]
     },
     "execution_count": 56,
     "metadata": {},
     "output_type": "execute_result"
    }
   ],
   "source": [
    "#The first halving only happen in 2022\n",
    "dfPlot.at[0, 'Halving'] = 1\n",
    "dfPlot"
   ]
  },
  {
   "cell_type": "code",
   "execution_count": 57,
   "metadata": {},
   "outputs": [
    {
     "data": {
      "image/png": "[encoded data removed]",
      "text/plain": [
       "<Figure size 720x360 with 1 Axes>"
      ]
     },
     "metadata": {},
     "output_type": "display_data"
    }
   ],
   "source": [
    "from matplotlib.dates import DateFormatter\n",
    "\n",
    "fig, ax = plt.subplots(figsize=(10, 5))\n",
    "\n",
    "date_form = DateFormatter(\"%m-%Y\")\n",
    "ax.xaxis.set_major_formatter(date_form)\n",
    "\n",
    "ax.text(0.39, 0.5, 'ariel@usp.br', fontsize=13, ha='center', va='center',\n",
    "           transform=ax.transAxes, color='grey', alpha=0.5)\n",
    "\n",
    "plt.title('Ravencoin Halving Projection:')\n",
    "\n",
    "plt.step(dfPlot['Forecast'], dfPlot['Halving'])\n",
    "\n",
    "plt.show()"
   ]
  },
  {
   "cell_type": "markdown",
   "metadata": {},
   "source": [
    "The validity of the projection shown in the graph depends on the allocated mining power and the difficulty setting. Maintaining current conditions, the first halving should take place on January 11, 2022.\n",
    "\n",
    "An indication that our projection may be correct is that the official Ravencoin website informs that the first halving is expected to take place in January 2022. Source: https://ravencoin.org/halving/\n",
    "\n",
    "It is too early to make an assertive prediction of the subsequent halvings, the prediction attempt was made just to facilitate the understanding of the results."
   ]
  },
  {
   "cell_type": "markdown",
   "metadata": {},
   "source": []
  }
 ],
 "metadata": {
  "kernelspec": {
   "display_name": "Python 3",
   "language": "python",
   "name": "python3"
  },
  "language_info": {
   "codemirror_mode": {
    "name": "ipython",
    "version": 3
   },
   "file_extension": ".py",
   "mimetype": "text/x-python",
   "name": "python",
   "nbconvert_exporter": "python",
   "pygments_lexer": "ipython3",
   "version": "3.8.5"
  }
 },
 "nbformat": 4,
 "nbformat_minor": 4
}
